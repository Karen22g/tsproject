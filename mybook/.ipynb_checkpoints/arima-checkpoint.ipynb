{
 "cells": [
  {
   "cell_type": "code",
   "execution_count": 10,
   "id": "8520791e-f9bd-4155-978c-6a393b70129f",
   "metadata": {},
   "outputs": [],
   "source": [
    "#paquetes utilizados\n",
    "import pandas as pd\n",
    "import numpy as np\n",
    "from sklearn.metrics import mean_absolute_error\n",
    "from statsmodels.tsa.holtwinters import SimpleExpSmoothing\n",
    "import warnings\n",
    "import math\n",
    "from statsmodels.tools.sm_exceptions import ConvergenceWarning\n",
    "warnings.simplefilter('ignore', ConvergenceWarning)\n",
    "from statsmodels.tsa.holtwinters import ExponentialSmoothing\n",
    "from statsmodels.tsa.arima_model import ARIMA\n",
    "import statsmodels.tsa.api as smtsa\n",
    "from sklearn.metrics import mean_squared_error\n",
    "from sklearn.metrics import r2_score\n",
    "from arch import arch_model\n",
    "import matplotlib.pyplot as plt\n",
    "from statsmodels.stats.diagnostic import acorr_ljungbox\n",
    "from statsmodels.stats.stattools import jarque_bera\n",
    "from scipy import stats\n",
    "import statsmodels.api as sm\n",
    "from statsmodels.graphics.tsaplots import plot_acf, plot_pacf\n",
    "from statsmodels.tsa.stattools import adfuller"
   ]
  },
  {
   "cell_type": "markdown",
   "id": "9beeffc8-15de-437e-bb6e-bd5a4050d77c",
   "metadata": {},
   "source": [
    "# Modelos autorregresivo integrado de media móvil"
   ]
  },
  {
   "cell_type": "markdown",
   "id": "4629eddd-8d5f-4fd4-9083-1f07d81e5724",
   "metadata": {},
   "source": [
    "Apliquemos a continuación Modelos Autorregresivo Integrado de Media Móvil (ARIMA) a nuestra serie de tiempo, para conocer el comportamiento del pronóstico que se puede alcanzar a partir de estos. En este apartado estaremos aplicando:\n",
    "\n",
    "1. ARIMA\n",
    "2. SARIMA\n",
    "\n",
    "Durante el análisis se estarán construyendo modelos para distintas combinaciones de autorregresivos, medias móviles y estacionalidades. Además para todos los pronósticos se considerará la técnica 'Rolling' que permite actualizar el modelo a medida que una nueva observación es conocida, lo que permite tener un pronóstico actualizado en el tiempo.\n",
    "\n",
    "Cada una de los apartados a continuación incluyen funciones de creación, selección de mejor modelo y pronóstico. Carguemos los datos:"
   ]
  },
  {
   "cell_type": "code",
   "execution_count": 5,
   "id": "89bfc471-dc2a-4a1c-b979-dadc6182b734",
   "metadata": {},
   "outputs": [],
   "source": [
    "df=pd.read_excel(\"loadsts.xlsx\")\n",
    "df.index = df['Posted_date']\n",
    "ts = df['Loads']"
   ]
  },
  {
   "cell_type": "markdown",
   "id": "8cda0c50-c893-45cc-8398-2d6800cde1de",
   "metadata": {},
   "source": [
    "También carguemos las funciones que ya hemos utilizado anteriormente para el cálculo de los score de pronóstico, supuestos y separación de la serie de tiempo."
   ]
  },
  {
   "cell_type": "code",
   "execution_count": 6,
   "id": "dbf680f4-c26c-4671-92cd-243e6fd13d50",
   "metadata": {},
   "outputs": [],
   "source": [
    "def split(serie, trainportion):\n",
    "    perct = math.ceil(len(ts) * trainportion)\n",
    "    perc2 = math.ceil(len(ts)*((1 - trainportion)/2))\n",
    "    train = serie[0:perct]\n",
    "    validation = serie[perct:perct+perc2]\n",
    "    test = serie[perct+perc2:]\n",
    "    return train, validation, test"
   ]
  },
  {
   "cell_type": "code",
   "execution_count": 7,
   "id": "1a8cee5f-8e9f-46ce-9af8-bff2692c3d4a",
   "metadata": {},
   "outputs": [],
   "source": [
    "#calculo de los errores\n",
    "def errors(y_pred, y_real):\n",
    "    \n",
    "    mae = mean_absolute_error(y_real, y_pred)\n",
    "    mape = 100*(sum(abs(((y_real - y_pred)/y_real)))/len(y_real))\n",
    "    mse = mean_squared_error(y_real , y_pred)\n",
    "    rmse = np.sqrt(mse)\n",
    "    r2 = r2_score(y_real, y_pred)\n",
    "    \n",
    "    return mae, mape, mse, rmse, r2"
   ]
  },
  {
   "cell_type": "code",
   "execution_count": 8,
   "id": "d22d8325-338e-4e2f-8a8b-84546366bc94",
   "metadata": {},
   "outputs": [],
   "source": [
    "#evaluacion de supuestos\n",
    "def assumptions(residuals):\n",
    "\n",
    "    warning = \"\"\n",
    "    a = 0\n",
    "    \n",
    "    #Independency\n",
    "    #H0: The residuals are independent.\n",
    "    #H1: The residuals aren't independent.    \n",
    "    ljung_box_test = acorr_ljungbox(residuals, lags=10, return_df=True)\n",
    "    ljung_box_pvalue = ljung_box_test['lb_pvalue'].values[0]\n",
    "    if ljung_box_pvalue < 0.05:\n",
    "        warning= warning + \" The residuals aren't independent\"\n",
    "        a=a+1\n",
    "\n",
    "    #Normality test\n",
    "    #H0: The residuals have a normal distribution.\n",
    "    #H1: The residuals don't have a normal distribution.\n",
    "    jb_stat, jb_pvalue, skewness, kurtosis = jarque_bera(residuals)\n",
    "    if jb_pvalue < 0.05:\n",
    "        a = a+1\n",
    "        warning = warning + \" The residuals do not follow a normal distribution\"\n",
    "\n",
    "    #homocedasticity\n",
    "    #H0: The residuals are homocedastic.\n",
    "    #H1: The residuals aren't homocedastic.\n",
    "    arch_stat, arch_pvalue, _, _ = het_arch(residuals)\n",
    "    if arch_pvalue < 0.05:\n",
    "        warning= warning + \" The residuals aren't homocedastic\"\n",
    "        a=a+1\n",
    "\n",
    "    return arch_pvalue, jb_pvalue, ljung_box_pvalue, warning"
   ]
  },
  {
   "cell_type": "markdown",
   "id": "d691f27a-467c-4312-b559-c5f5814ed9b2",
   "metadata": {},
   "source": [
    "Para la construcción de los modelos ARIMA, utilizaremos 80% para el conjunto de entrenamiento. Dado que haremos pronóstico tipo rolling, probar modelos de alto orden con combinaciones de tipo p,q (3,3) supone alta disponibilidad computacional, y esto sucede no solo para testear validación sino para cada pronóstico del testing, y en cada observación el modelo se reentrena, esto lo hacemos para optimizar los tiempos de corrida del algoritmo."
   ]
  },
  {
   "cell_type": "code",
   "execution_count": 19,
   "id": "67ed54ce-b400-44bf-b797-18296c2d347b",
   "metadata": {},
   "outputs": [],
   "source": [
    "train, val, test = split(ts, 0.8)"
   ]
  },
  {
   "cell_type": "markdown",
   "id": "c069af83-e27c-4c3e-b0cd-565a671e9ee7",
   "metadata": {},
   "source": [
    "## 1. ARIMA"
   ]
  },
  {
   "cell_type": "markdown",
   "id": "f2bf959d-1d02-4304-9ea5-83c92e81d9cd",
   "metadata": {},
   "source": [
    "Para generar el modelo ARIMA que pronostica con la técnica de 'Rolling' se hace uso de dos funciones:\n",
    "1. _arimaconrolling_: Esta función recibe los valores de p(AR), q(MA) y el set de training y testing. Para cada combinación p, q entrena el modelo usando la serie de tiempo de entrenamiento, pronostica el test y se encarga de guardar el valor de p y q con que se obtuvo el menor valor de error. Solo que en este caso el pronóstico se realiza a partir de la técnica de rolling, haciendo un llamado a la función del punto 2.\n",
    "2. _arima_rolling_: Esta función calcula mediante rolling la cantidad de pasos de la serie de test que recibe. Luego de realizar cada pronóstico, esta función también reentrena el modelo para la combinación de p y q que recibe, porque actualiza la serie de tiempo input, agregando un valor real de la serie original de la variable de análisis."
   ]
  },
  {
   "cell_type": "code",
   "execution_count": 25,
   "id": "df693f3c-2f86-4ac0-befb-ee3800f91c4f",
   "metadata": {},
   "outputs": [],
   "source": [
    "## arima con rolling\n",
    "#obtener el mejor modelo\n",
    "def arimaconrolling(train, ts_test, p, d, q):\n",
    "    warnings = []\n",
    "    mae_list = []\n",
    "    step = len(ts_test)\n",
    "    best_p, best_q = None, None\n",
    "    best_mae = float(\"inf\")\n",
    "    \n",
    "    for ari in range(0, p+1): #p1\n",
    "        for maj in range(0, q+1): #q\n",
    "            arima_model = smtsa.ARIMA(train, order=(ari, d, maj)).fit()\n",
    "            y_pred = arima_rolling(train, ts_test, ari, d, maj)\n",
    "            print(\"Combinacion\", ari, maj)\n",
    "            mae = mean_absolute_error(ts_test, y_pred)\n",
    "\n",
    "            residuals_m = arima_model.resid #obtención de residuales del modelo\n",
    "            arch_pvalue, jb_pvalue, ljung_box_pvalue, warning = assumptions(residuals_m) #análisis de los residuales\n",
    "            \n",
    "            print(\"obtuvo un mae de\", mae)\n",
    "            print(\"obtuvo este warning\", warning)\n",
    "            mae_list.append(mae)\n",
    "            warnings.append(warning)\n",
    "            \n",
    "            if mae < best_mae:\n",
    "                best_p, best_q, best_mae = ari, maj, mae\n",
    "        print(\"el mejor mae es\", best_mae)\n",
    "    return best_p, d, best_q, mae_list, warnings\n",
    "\n",
    "## pronosticar con rolling\n",
    "def arima_rolling(ts, test, p, d, q):\n",
    "    predictions = []\n",
    "    ts = ts.tolist()\n",
    "    test = test.reset_index(drop=True)\n",
    "    for t in range(len(test)):\n",
    "        model = smtsa.ARIMA(ts, order = (p, d, q)).fit()\n",
    "        output = model.forecast()\n",
    "        yhat = output[0]\n",
    "        predictions.append(yhat)\n",
    "        obs = test[t]\n",
    "        ts.append(obs)\n",
    "    return predictions"
   ]
  },
  {
   "cell_type": "markdown",
   "id": "c67e283d-fee8-46f3-8d2f-eb532acb91c8",
   "metadata": {},
   "source": [
    "Durante el capítulo de Análisis Exploratorio de Datos observamos que la serie no era estacionaria y que era necesario aplicar una diferenciación para poder seleccionar el Autorregresivo y Media Móvil con que vamos a construir nuestro modelo de ARIMA. Analicemos que valor de p (AR) y q (MA) podemos utilizar para entrenar el modelo."
   ]
  },
  {
   "cell_type": "code",
   "execution_count": 20,
   "id": "d7c4940d-24ea-4903-b5b2-c01a2b1cdbad",
   "metadata": {},
   "outputs": [],
   "source": [
    "train_diff = train.diff()"
   ]
  },
  {
   "cell_type": "code",
   "execution_count": 21,
   "id": "a51032f6-6b61-498d-8e54-ab76101aaa9b",
   "metadata": {},
   "outputs": [
    {
     "data": {
      "text/plain": [
       "<Figure size 550x550 with 0 Axes>"
      ]
     },
     "metadata": {},
     "output_type": "display_data"
    },
    {
     "data": {
      "image/png": "[encoded data removed]",
      "text/plain": [
       "<Figure size 640x480 with 1 Axes>"
      ]
     },
     "metadata": {},
     "output_type": "display_data"
    }
   ],
   "source": [
    "plt.figure(figsize=(5.5, 5.5));\n",
    "plot_pacf(train_diff.dropna());"
   ]
  },
  {
   "cell_type": "markdown",
   "id": "06513d56-ef08-4080-903f-b73eddde62a7",
   "metadata": {},
   "source": [
    "En la gráfica PACF, observamos un patrón repetirse cada dos o tres lags. Sobre todo los primeros 6 lags sobrepasan la banda de significancia por mucho. Seleccionaremos entrenar nuestro modelo para 0, 1, 2 y 3 valores de p."
   ]
  },
  {
   "cell_type": "code",
   "execution_count": 22,
   "id": "ef4e6a5f-0f59-400f-9d94-c10ce000b4a5",
   "metadata": {},
   "outputs": [
    {
     "data": {
      "text/plain": [
       "<Figure size 550x550 with 0 Axes>"
      ]
     },
     "metadata": {},
     "output_type": "display_data"
    },
    {
     "data": {
      "image/png": "[encoded data removed]",
      "text/plain": [
       "<Figure size 640x480 with 1 Axes>"
      ]
     },
     "metadata": {},
     "output_type": "display_data"
    }
   ],
   "source": [
    "plt.figure(figsize=(5.5, 5.5));\n",
    "plot_acf(train_diff.dropna());"
   ]
  },
  {
   "cell_type": "markdown",
   "id": "3dee0f26-b724-4f02-905a-a133979779fd",
   "metadata": {},
   "source": [
    "En este gráfico de ACF el comportamiento es aún más explícito en que cada dos y tres lags una barra sobrepasa la banda de significancia, de nuevo, puede estar relacionado con el comportamiento en cada día de la semana de las cargas transportadas. Para el valor de q también seleccionaremos entrenar el modelo ARIMA para 0, 1, 2, 3 lags. Además fijaremos el valor de d en el modelo como igual a 1."
   ]
  },
  {
   "cell_type": "code",
   "execution_count": null,
   "id": "3db9277e-1c3a-435d-969e-f1185ba8a770",
   "metadata": {},
   "outputs": [],
   "source": [
    "val_result = []\n",
    "test_result = []"
   ]
  },
  {
   "cell_type": "code",
   "execution_count": 26,
   "id": "bf956ce6-68ec-4d13-ba72-a14897ad63f2",
   "metadata": {},
   "outputs": [
    {
     "name": "stderr",
     "output_type": "stream",
     "text": [
      "C:\\Users\\kgome\\anaconda3\\envs\\myenv\\lib\\site-packages\\statsmodels\\tsa\\base\\tsa_model.py:473: ValueWarning: No frequency information was provided, so inferred frequency D will be used.\n",
      "  self._init_dates(dates, freq)\n",
      "C:\\Users\\kgome\\anaconda3\\envs\\myenv\\lib\\site-packages\\statsmodels\\tsa\\base\\tsa_model.py:473: ValueWarning: No frequency information was provided, so inferred frequency D will be used.\n",
      "  self._init_dates(dates, freq)\n",
      "C:\\Users\\kgome\\anaconda3\\envs\\myenv\\lib\\site-packages\\statsmodels\\tsa\\base\\tsa_model.py:473: ValueWarning: No frequency information was provided, so inferred frequency D will be used.\n",
      "  self._init_dates(dates, freq)\n"
     ]
    },
    {
     "name": "stdout",
     "output_type": "stream",
     "text": [
      "Combinacion 0 0\n"
     ]
    },
    {
     "ename": "NameError",
     "evalue": "name 'het_arch' is not defined",
     "output_type": "error",
     "traceback": [
      "\u001b[1;31m---------------------------------------------------------------------------\u001b[0m",
      "\u001b[1;31mNameError\u001b[0m                                 Traceback (most recent call last)",
      "Cell \u001b[1;32mIn[26], line 3\u001b[0m\n\u001b[0;32m      1\u001b[0m \u001b[38;5;66;03m#arima con rolling\u001b[39;00m\n\u001b[1;32m----> 3\u001b[0m best_p, d, best_q, mae_list, warnings \u001b[38;5;241m=\u001b[39m \u001b[43marimaconrolling\u001b[49m\u001b[43m(\u001b[49m\u001b[43mtrain\u001b[49m\u001b[43m,\u001b[49m\u001b[43m \u001b[49m\u001b[43mval\u001b[49m\u001b[43m,\u001b[49m\u001b[43m \u001b[49m\u001b[38;5;241;43m3\u001b[39;49m\u001b[43m,\u001b[49m\u001b[43m \u001b[49m\u001b[38;5;241;43m1\u001b[39;49m\u001b[43m,\u001b[49m\u001b[43m \u001b[49m\u001b[38;5;241;43m3\u001b[39;49m\u001b[43m)\u001b[49m \u001b[38;5;66;03m#selección del mejor modelo\u001b[39;00m\n\u001b[0;32m      5\u001b[0m arima_model \u001b[38;5;241m=\u001b[39m smtsa\u001b[38;5;241m.\u001b[39mARIMA(train, order\u001b[38;5;241m=\u001b[39m(best_p, d, best_q))\u001b[38;5;241m.\u001b[39mfit()\n\u001b[0;32m      6\u001b[0m residuals_m \u001b[38;5;241m=\u001b[39m arima_model\u001b[38;5;241m.\u001b[39mresid \u001b[38;5;66;03m#obtención de residuales del modelo\u001b[39;00m\n",
      "Cell \u001b[1;32mIn[25], line 18\u001b[0m, in \u001b[0;36marimaconrolling\u001b[1;34m(train, ts_test, p, d, q)\u001b[0m\n\u001b[0;32m     15\u001b[0m mae \u001b[38;5;241m=\u001b[39m mean_absolute_error(ts_test, y_pred)\n\u001b[0;32m     17\u001b[0m residuals_m \u001b[38;5;241m=\u001b[39m arima_model\u001b[38;5;241m.\u001b[39mresid \u001b[38;5;66;03m#obtención de residuales del modelo\u001b[39;00m\n\u001b[1;32m---> 18\u001b[0m arch_pvalue, jb_pvalue, ljung_box_pvalue, warning \u001b[38;5;241m=\u001b[39m \u001b[43massumptions\u001b[49m\u001b[43m(\u001b[49m\u001b[43mresiduals_m\u001b[49m\u001b[43m)\u001b[49m \u001b[38;5;66;03m#análisis de los residuales\u001b[39;00m\n\u001b[0;32m     20\u001b[0m \u001b[38;5;28mprint\u001b[39m(\u001b[38;5;124m\"\u001b[39m\u001b[38;5;124mobtuvo un mae de\u001b[39m\u001b[38;5;124m\"\u001b[39m, mae)\n\u001b[0;32m     21\u001b[0m \u001b[38;5;28mprint\u001b[39m(\u001b[38;5;124m\"\u001b[39m\u001b[38;5;124mobtuvo este warning\u001b[39m\u001b[38;5;124m\"\u001b[39m, warning)\n",
      "Cell \u001b[1;32mIn[8], line 27\u001b[0m, in \u001b[0;36massumptions\u001b[1;34m(residuals)\u001b[0m\n\u001b[0;32m     22\u001b[0m     warning \u001b[38;5;241m=\u001b[39m warning \u001b[38;5;241m+\u001b[39m \u001b[38;5;124m\"\u001b[39m\u001b[38;5;124m The residuals do not follow a normal distribution\u001b[39m\u001b[38;5;124m\"\u001b[39m\n\u001b[0;32m     24\u001b[0m \u001b[38;5;66;03m#homocedasticity\u001b[39;00m\n\u001b[0;32m     25\u001b[0m \u001b[38;5;66;03m#H0: The residuals are homocedastic.\u001b[39;00m\n\u001b[0;32m     26\u001b[0m \u001b[38;5;66;03m#H1: The residuals aren't homocedastic.\u001b[39;00m\n\u001b[1;32m---> 27\u001b[0m arch_stat, arch_pvalue, _, _ \u001b[38;5;241m=\u001b[39m \u001b[43mhet_arch\u001b[49m(residuals)\n\u001b[0;32m     28\u001b[0m \u001b[38;5;28;01mif\u001b[39;00m arch_pvalue \u001b[38;5;241m<\u001b[39m \u001b[38;5;241m0.05\u001b[39m:\n\u001b[0;32m     29\u001b[0m     warning\u001b[38;5;241m=\u001b[39m warning \u001b[38;5;241m+\u001b[39m \u001b[38;5;124m\"\u001b[39m\u001b[38;5;124m The residuals aren\u001b[39m\u001b[38;5;124m'\u001b[39m\u001b[38;5;124mt homocedastic\u001b[39m\u001b[38;5;124m\"\u001b[39m\n",
      "\u001b[1;31mNameError\u001b[0m: name 'het_arch' is not defined"
     ]
    }
   ],
   "source": [
    "#arima con rolling\n",
    "\n",
    "best_p, d, best_q, mae_list, warnings = arimaconrolling(train, val, 3, 1, 3) #selección del mejor modelo\n",
    "\n",
    "arima_model = smtsa.ARIMA(train, order=(best_p, d, best_q)).fit()\n",
    "residuals_m = arima_model.resid #obtención de residuales del modelo\n",
    "val_pred = arima_rolling(train, val, best_p, d, best_q) #pronosticar validación\n",
    "mae_v, mape_v, mse_v, rmse_v, r2_v = errors(val_pred, val)  #scores validación\n",
    "arch_pvalue, jb_pvalue, ljung_box_pvalue, warning = assumptions(residuals_m) #análisis de los residuales"
   ]
  },
  {
   "cell_type": "code",
   "execution_count": null,
   "id": "6e837b2a-abf7-4526-a0ec-dcabe37cc35d",
   "metadata": {},
   "outputs": [],
   "source": [
    "#arima con rolling\n",
    "\n",
    "#forecast testing con arima\n",
    "tt = pd.concat([train,val]) #unir validación con training\n",
    "arima_model = smtsa.ARIMA(tt, order=(best_p, d, best_q)).fit()\n",
    "test_pred = arima_rolling(tt, test, best_p, d, best_q) #pronosticar el testing\n",
    "mae_t, mape_t, mse_t, rmse_t, r2_t = errors(test_pred, test) #scores testing\n",
    "\n",
    "val_result.append([\"arima\", mape_v, mae_v, mse_v, rmse_v, r2_v, arch_pvalue, jb_pvalue, ljung_box_pvalue, warning])\n",
    "test_result.append([\"arima\", mape_t, mae_t, mse_t, rmse_t, r2_t])"
   ]
  },
  {
   "cell_type": "code",
   "execution_count": null,
   "id": "389c0fd5-c170-427f-851c-0fded4faeda3",
   "metadata": {},
   "outputs": [],
   "source": [
    "#Suavización de primer orden sin librería\n",
    "\n",
    "#Pronóstico de testing\n",
    "tt = pd.concat([train,val]) #unir validación con training\n",
    "test_pred = forecastfirstsmooth(ts, tt, test, lambda_) #pronosticar el testing\n",
    "mae_t, mape_t, mse_t, rmse_t, r2_t = errors(test_pred, test) #scores testing\n",
    "\n",
    "#guardar los resultados\n",
    "val_result.append([\"first_smooth_nolibrary\", mape_v, mae_v, mse_v, rmse_v, r2_v, arch_pvalue, jb_pvalue, ljung_box_pvalue, warning])\n",
    "test_result.append([\"first_smooth_nolibrary\", mape_t, mae_t, mse_t, rmse_t, r2_t])"
   ]
  },
  {
   "cell_type": "markdown",
   "id": "aad94f9d-69c4-4242-bfc6-fa28a1c9f561",
   "metadata": {},
   "source": [
    "## 2. SARIMA"
   ]
  },
  {
   "cell_type": "code",
   "execution_count": null,
   "id": "5ba9f30c-2036-451e-8f45-4f2589bbdfa7",
   "metadata": {},
   "outputs": [],
   "source": [
    "ts_seasonal = seasonal_decompose(train.diff().dropna(),period = 4, model='additive').seasonal\n",
    "\n",
    "#H0: La serie no es estacionaria\n",
    "#H1: La serie es estacionaria\n",
    "adf_result = adfuller(ts_seasonal, autolag='AIC')\n",
    "adf_result[1] #D =0\n",
    "\n",
    "plt.figure(figsize=(5.5, 5.5));\n",
    "plot_pacf(ts_seasonal);\n",
    "#p 1-5\n",
    "\n",
    "plt.figure(figsize=(5.5, 5.5));\n",
    "plot_acf(ts_seasonal);\n",
    "#q 2, 4, 6"
   ]
  },
  {
   "cell_type": "code",
   "execution_count": null,
   "id": "43dba685-a19e-4e31-86df-0854b812dfe1",
   "metadata": {},
   "outputs": [],
   "source": [
    "#pronosticar\n",
    "def arima_rolling(ts, test, ari, maj, ps, qs, s):\n",
    "    predictions = []\n",
    "    ts=ts.tolist()\n",
    "    for t in range(len(test)):\n",
    "        fit = sm.tsa.statespace.SARIMAX(ts, trend='n', order=(ari, 1, maj),seasonal_order=(ps, 0, qs, s)).fit()\n",
    "        output = fit.forecast()\n",
    "        yhat = output[0]\n",
    "        predictions.append(yhat)\n",
    "        obs = test[t]\n",
    "        ts.append(obs)\n",
    "        #print('predicted=%f, expected=%f' % (yhat, obs))\n",
    "    return predictions"
   ]
  },
  {
   "cell_type": "code",
   "execution_count": null,
   "id": "2a420b12-8d9c-4883-810a-d71fb2924f2b",
   "metadata": {},
   "outputs": [],
   "source": [
    "#hacer el modelo\n",
    "hqicVal=[]\n",
    "qs=2\n",
    "mape=[]\n",
    "i=0\n",
    "for ari in range(0, 3): #p\n",
    "    for maj in range(0,3): #q\n",
    "        for ps in range (2,6): #P\n",
    "            for s in range (2,7): #s\n",
    "                if ari !=s and maj != s:\n",
    "                    i=i+1\n",
    "                    print(\"este es el modelo\",i)\n",
    "                    mod = sm.tsa.statespace.SARIMAX(train, trend='n', order=(ari, 1, maj),\n",
    "                                                    seasonal_order=(ps, 0, qs, s)).fit()\n",
    "                    warning = assumptions(mod)\n",
    "                    hqicVal.append([ari, 1, maj, ps, 0, qs, s, mod.hqic, mod.aic, warning])\n",
    "                else:\n",
    "                    continue"
   ]
  }
 ],
 "metadata": {
  "kernelspec": {
   "display_name": "Python 3 (ipykernel)",
   "language": "python",
   "name": "python3"
  },
  "language_info": {
   "codemirror_mode": {
    "name": "ipython",
    "version": 3
   },
   "file_extension": ".py",
   "mimetype": "text/x-python",
   "name": "python",
   "nbconvert_exporter": "python",
   "pygments_lexer": "ipython3",
   "version": "3.10.15"
  }
 },
 "nbformat": 4,
 "nbformat_minor": 5
}
