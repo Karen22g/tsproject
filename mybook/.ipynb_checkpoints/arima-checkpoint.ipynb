{
 "cells": [
  {
   "cell_type": "code",
   "execution_count": 45,
   "id": "8520791e-f9bd-4155-978c-6a393b70129f",
   "metadata": {},
   "outputs": [],
   "source": [
    "#paquetes utilizados\n",
    "import pandas as pd\n",
    "import numpy as np\n",
    "from sklearn.metrics import mean_absolute_error\n",
    "from statsmodels.tsa.holtwinters import SimpleExpSmoothing\n",
    "import warnings\n",
    "import math\n",
    "from statsmodels.stats.diagnostic import acorr_ljungbox, het_breuschpagan, het_arch\n",
    "from statsmodels.tools.sm_exceptions import ConvergenceWarning\n",
    "warnings.simplefilter('ignore', ConvergenceWarning)\n",
    "from statsmodels.tsa.holtwinters import ExponentialSmoothing\n",
    "from statsmodels.tsa.arima_model import ARIMA\n",
    "import statsmodels.tsa.api as smtsa\n",
    "from sklearn.metrics import mean_squared_error\n",
    "from statsmodels.tsa.seasonal import seasonal_decompose\n",
    "from statsmodels.tsa import seasonal\n",
    "from sklearn.metrics import r2_score\n",
    "from arch import arch_model\n",
    "import matplotlib.pyplot as plt\n",
    "from statsmodels.stats.diagnostic import acorr_ljungbox\n",
    "from statsmodels.stats.stattools import jarque_bera\n",
    "from scipy import stats\n",
    "import statsmodels.api as sm\n",
    "from statsmodels.graphics.tsaplots import plot_acf, plot_pacf\n",
    "from statsmodels.tsa.stattools import adfuller"
   ]
  },
  {
   "cell_type": "markdown",
   "id": "9beeffc8-15de-437e-bb6e-bd5a4050d77c",
   "metadata": {},
   "source": [
    "# Modelos autorregresivo integrado de media móvil"
   ]
  },
  {
   "cell_type": "markdown",
   "id": "4629eddd-8d5f-4fd4-9083-1f07d81e5724",
   "metadata": {},
   "source": [
    "Apliquemos a continuación Modelos Autorregresivo Integrado de Media Móvil (ARIMA) a nuestra serie de tiempo, para conocer el comportamiento del pronóstico que se puede alcanzar a partir de estos. En este apartado estaremos aplicando:\n",
    "\n",
    "1. ARIMA\n",
    "2. SARIMA\n",
    "\n",
    "Durante el análisis se estarán construyendo modelos para distintas combinaciones de autorregresivos, medias móviles y estacionalidades. Además para todos los pronósticos se considerará la técnica 'Rolling' que permite actualizar el modelo a medida que una nueva observación es conocida, lo que permite tener un pronóstico actualizado en el tiempo.\n",
    "\n",
    "Cada una de los apartados a continuación incluyen funciones de creación, selección de mejor modelo y pronóstico. Carguemos los datos:"
   ]
  },
  {
   "cell_type": "code",
   "execution_count": 28,
   "id": "89bfc471-dc2a-4a1c-b979-dadc6182b734",
   "metadata": {},
   "outputs": [],
   "source": [
    "df=pd.read_excel(\"loadsts.xlsx\")\n",
    "df.index = df['Posted_date']\n",
    "df.index.freq = 'D'\n",
    "ts = df['Loads']"
   ]
  },
  {
   "cell_type": "markdown",
   "id": "8cda0c50-c893-45cc-8398-2d6800cde1de",
   "metadata": {},
   "source": [
    "También carguemos las funciones que ya hemos utilizado anteriormente para el cálculo de los score de pronóstico, supuestos y separación de la serie de tiempo."
   ]
  },
  {
   "cell_type": "code",
   "execution_count": 6,
   "id": "dbf680f4-c26c-4671-92cd-243e6fd13d50",
   "metadata": {},
   "outputs": [],
   "source": [
    "def split(serie, trainportion):\n",
    "    perct = math.ceil(len(ts) * trainportion)\n",
    "    perc2 = math.ceil(len(ts)*((1 - trainportion)/2))\n",
    "    train = serie[0:perct]\n",
    "    validation = serie[perct:perct+perc2]\n",
    "    test = serie[perct+perc2:]\n",
    "    return train, validation, test"
   ]
  },
  {
   "cell_type": "code",
   "execution_count": 7,
   "id": "1a8cee5f-8e9f-46ce-9af8-bff2692c3d4a",
   "metadata": {},
   "outputs": [],
   "source": [
    "#calculo de los errores\n",
    "def errors(y_pred, y_real):\n",
    "    \n",
    "    mae = mean_absolute_error(y_real, y_pred)\n",
    "    mape = 100*(sum(abs(((y_real - y_pred)/y_real)))/len(y_real))\n",
    "    mse = mean_squared_error(y_real , y_pred)\n",
    "    rmse = np.sqrt(mse)\n",
    "    r2 = r2_score(y_real, y_pred)\n",
    "    \n",
    "    return mae, mape, mse, rmse, r2"
   ]
  },
  {
   "cell_type": "code",
   "execution_count": 8,
   "id": "d22d8325-338e-4e2f-8a8b-84546366bc94",
   "metadata": {},
   "outputs": [],
   "source": [
    "#evaluacion de supuestos\n",
    "def assumptions(residuals):\n",
    "\n",
    "    warning = \"\"\n",
    "    a = 0\n",
    "    \n",
    "    #Independency\n",
    "    #H0: The residuals are independent.\n",
    "    #H1: The residuals aren't independent.    \n",
    "    ljung_box_test = acorr_ljungbox(residuals, lags=10, return_df=True)\n",
    "    ljung_box_pvalue = ljung_box_test['lb_pvalue'].values[0]\n",
    "    if ljung_box_pvalue < 0.05:\n",
    "        warning= warning + \" The residuals aren't independent\"\n",
    "        a=a+1\n",
    "\n",
    "    #Normality test\n",
    "    #H0: The residuals have a normal distribution.\n",
    "    #H1: The residuals don't have a normal distribution.\n",
    "    jb_stat, jb_pvalue, skewness, kurtosis = jarque_bera(residuals)\n",
    "    if jb_pvalue < 0.05:\n",
    "        a = a+1\n",
    "        warning = warning + \" The residuals do not follow a normal distribution\"\n",
    "\n",
    "    #homocedasticity\n",
    "    #H0: The residuals are homocedastic.\n",
    "    #H1: The residuals aren't homocedastic.\n",
    "    arch_stat, arch_pvalue, _, _ = het_arch(residuals)\n",
    "    if arch_pvalue < 0.05:\n",
    "        warning= warning + \" The residuals aren't homocedastic\"\n",
    "        a=a+1\n",
    "\n",
    "    return arch_pvalue, jb_pvalue, ljung_box_pvalue, warning"
   ]
  },
  {
   "cell_type": "markdown",
   "id": "d691f27a-467c-4312-b559-c5f5814ed9b2",
   "metadata": {},
   "source": [
    "Para la construcción de los modelos ARIMA, utilizaremos 80% para el conjunto de entrenamiento. Dado que haremos pronóstico tipo rolling, probar modelos de alto orden con combinaciones de tipo p,q (3,3) supone alta disponibilidad computacional, y esto sucede no solo para testear validación sino para cada pronóstico del testing, y en cada observación el modelo se reentrena, esto lo hacemos para optimizar los tiempos de corrida del algoritmo."
   ]
  },
  {
   "cell_type": "code",
   "execution_count": 29,
   "id": "67ed54ce-b400-44bf-b797-18296c2d347b",
   "metadata": {},
   "outputs": [],
   "source": [
    "train, val, test = split(ts, 0.8)"
   ]
  },
  {
   "cell_type": "markdown",
   "id": "c069af83-e27c-4c3e-b0cd-565a671e9ee7",
   "metadata": {},
   "source": [
    "## 1. ARIMA"
   ]
  },
  {
   "cell_type": "markdown",
   "id": "f2bf959d-1d02-4304-9ea5-83c92e81d9cd",
   "metadata": {},
   "source": [
    "Para generar el modelo ARIMA que pronostica con la técnica de 'Rolling' se hace uso de dos funciones:\n",
    "1. _arimaconrolling_: Esta función recibe los valores de p(AR), q(MA) y el set de training y testing. Para cada combinación p, q entrena el modelo usando la serie de tiempo de entrenamiento, pronostica el test y se encarga de guardar el valor de p y q con que se obtuvo el menor valor de error. Solo que en este caso el pronóstico se realiza a partir de la técnica de rolling, haciendo un llamado a la función del punto 2.\n",
    "2. _arima_rolling_: Esta función calcula mediante rolling la cantidad de pasos de la serie de test que recibe. Luego de realizar cada pronóstico, esta función también reentrena el modelo para la combinación de p y q que recibe, porque actualiza la serie de tiempo input, agregando un valor real de la serie original de la variable de análisis."
   ]
  },
  {
   "cell_type": "code",
   "execution_count": 32,
   "id": "df693f3c-2f86-4ac0-befb-ee3800f91c4f",
   "metadata": {},
   "outputs": [],
   "source": [
    "## arima con rolling\n",
    "#obtener el mejor modelo\n",
    "def arimaconrolling(train, ts_test, p, d, q):\n",
    "    warnings = []\n",
    "    mae_list = []\n",
    "    step = len(ts_test)\n",
    "    best_p, best_q = None, None\n",
    "    best_mae = float(\"inf\")\n",
    "    \n",
    "    for ari in range(1, p+1): #p1\n",
    "        for maj in range(1, q+1): #q\n",
    "            arima_model = smtsa.ARIMA(train, order=(ari, d, maj)).fit()\n",
    "            y_pred = arima_rolling(train, ts_test, ari, d, maj)\n",
    "            print(\"Combinacion\", ari, maj)\n",
    "            mae = mean_absolute_error(ts_test, y_pred)\n",
    "\n",
    "            residuals_m = arima_model.resid #obtención de residuales del modelo\n",
    "            arch_pvalue, jb_pvalue, ljung_box_pvalue, warning = assumptions(residuals_m) #análisis de los residuales\n",
    "            \n",
    "            print(\"obtuvo un mae de\", mae)\n",
    "            print(\"obtuvo este warning\", warning)\n",
    "            mae_list.append(mae)\n",
    "            warnings.append(warning)\n",
    "            \n",
    "            if mae < best_mae:\n",
    "                best_p, best_q, best_mae = ari, maj, mae\n",
    "        print(\"el mejor mae es\", best_mae)\n",
    "    return best_p, d, best_q, mae_list, warnings\n",
    "\n",
    "## pronosticar con rolling\n",
    "def arima_rolling(ts, test, p, d, q):\n",
    "    predictions = []\n",
    "    ts = ts.tolist()\n",
    "    test = test.reset_index(drop=True)\n",
    "    for t in range(len(test)):\n",
    "        model = smtsa.ARIMA(ts, order = (p, d, q)).fit()\n",
    "        output = model.forecast()\n",
    "        yhat = output[0]\n",
    "        predictions.append(yhat)\n",
    "        obs = test[t]\n",
    "        ts.append(obs)\n",
    "    return predictions"
   ]
  },
  {
   "cell_type": "markdown",
   "id": "c67e283d-fee8-46f3-8d2f-eb532acb91c8",
   "metadata": {},
   "source": [
    "Durante el capítulo de Análisis Exploratorio de Datos observamos que la serie no era estacionaria y que era necesario aplicar una diferenciación para poder seleccionar el Autorregresivo y Media Móvil con que vamos a construir nuestro modelo de ARIMA. Analicemos que valor de p (AR) y q (MA) podemos utilizar para entrenar el modelo."
   ]
  },
  {
   "cell_type": "code",
   "execution_count": 20,
   "id": "d7c4940d-24ea-4903-b5b2-c01a2b1cdbad",
   "metadata": {},
   "outputs": [],
   "source": [
    "train_diff = train.diff()"
   ]
  },
  {
   "cell_type": "code",
   "execution_count": 21,
   "id": "a51032f6-6b61-498d-8e54-ab76101aaa9b",
   "metadata": {},
   "outputs": [
    {
     "data": {
      "text/plain": [
       "<Figure size 550x550 with 0 Axes>"
      ]
     },
     "metadata": {},
     "output_type": "display_data"
    },
    {
     "data": {
      "image/png": "[encoded data removed]",
      "text/plain": [
       "<Figure size 640x480 with 1 Axes>"
      ]
     },
     "metadata": {},
     "output_type": "display_data"
    }
   ],
   "source": [
    "plt.figure(figsize=(5.5, 5.5));\n",
    "plot_pacf(train_diff.dropna());"
   ]
  },
  {
   "cell_type": "markdown",
   "id": "06513d56-ef08-4080-903f-b73eddde62a7",
   "metadata": {},
   "source": [
    "En la gráfica PACF, observamos un patrón repetirse cada dos o tres lags. Sobre todo los primeros 6 lags sobrepasan la banda de significancia por mucho. Seleccionaremos entrenar nuestro modelo para 1, 2 y 3 valores de p. p igual a 0 no es considerado, porque conocemos a priori que debemos captar la relación entre los lags, no hacerlo puede suponer fallar en la prueba de independencia."
   ]
  },
  {
   "cell_type": "code",
   "execution_count": 22,
   "id": "ef4e6a5f-0f59-400f-9d94-c10ce000b4a5",
   "metadata": {},
   "outputs": [
    {
     "data": {
      "text/plain": [
       "<Figure size 550x550 with 0 Axes>"
      ]
     },
     "metadata": {},
     "output_type": "display_data"
    },
    {
     "data": {
      "image/png": "[encoded data removed]",
      "text/plain": [
       "<Figure size 640x480 with 1 Axes>"
      ]
     },
     "metadata": {},
     "output_type": "display_data"
    }
   ],
   "source": [
    "plt.figure(figsize=(5.5, 5.5));\n",
    "plot_acf(train_diff.dropna());"
   ]
  },
  {
   "cell_type": "markdown",
   "id": "3dee0f26-b724-4f02-905a-a133979779fd",
   "metadata": {},
   "source": [
    "En este gráfico de ACF el comportamiento es aún más explícito en que cada dos y tres lags una barra sobrepasa la banda de significancia, de nuevo, puede estar relacionado con el comportamiento en cada día de la semana de las cargas transportadas. Para el valor de q también seleccionaremos entrenar el modelo ARIMA para 1, 2, 3 lags. q igual a 0 no es considerado, porque conocemos a priori que debemos captar la relación entre los lags, no hacerlo puede suponer fallar en la prueba de independencia.\n",
    "\n",
    "Además fijaremos el valor de d en el modelo como igual a 1."
   ]
  },
  {
   "cell_type": "code",
   "execution_count": 33,
   "id": "bf956ce6-68ec-4d13-ba72-a14897ad63f2",
   "metadata": {
    "scrolled": true
   },
   "outputs": [
    {
     "name": "stdout",
     "output_type": "stream",
     "text": [
      "Combinacion 1 1\n",
      "obtuvo un mae de 17.444868471959694\n",
      "obtuvo este warning  The residuals aren't independent The residuals do not follow a normal distribution The residuals aren't homocedastic\n"
     ]
    },
    {
     "name": "stderr",
     "output_type": "stream",
     "text": [
      "C:\\Users\\kgome\\anaconda3\\envs\\myenv\\lib\\site-packages\\statsmodels\\tsa\\statespace\\sarimax.py:978: UserWarning: Non-invertible starting MA parameters found. Using zeros as starting parameters.\n",
      "  warn('Non-invertible starting MA parameters found.'\n",
      "C:\\Users\\kgome\\anaconda3\\envs\\myenv\\lib\\site-packages\\statsmodels\\tsa\\statespace\\sarimax.py:978: UserWarning: Non-invertible starting MA parameters found. Using zeros as starting parameters.\n",
      "  warn('Non-invertible starting MA parameters found.'\n"
     ]
    },
    {
     "name": "stdout",
     "output_type": "stream",
     "text": [
      "Combinacion 1 2\n",
      "obtuvo un mae de 16.16622318975237\n",
      "obtuvo este warning  The residuals do not follow a normal distribution The residuals aren't homocedastic\n",
      "Combinacion 1 3\n",
      "obtuvo un mae de 15.12996554896757\n",
      "obtuvo este warning  The residuals do not follow a normal distribution The residuals aren't homocedastic\n",
      "el mejor mae es 15.12996554896757\n",
      "Combinacion 2 1\n",
      "obtuvo un mae de 15.928834679484881\n",
      "obtuvo este warning  The residuals do not follow a normal distribution The residuals aren't homocedastic\n"
     ]
    },
    {
     "name": "stderr",
     "output_type": "stream",
     "text": [
      "C:\\Users\\kgome\\anaconda3\\envs\\myenv\\lib\\site-packages\\statsmodels\\tsa\\statespace\\sarimax.py:978: UserWarning: Non-invertible starting MA parameters found. Using zeros as starting parameters.\n",
      "  warn('Non-invertible starting MA parameters found.'\n",
      "C:\\Users\\kgome\\anaconda3\\envs\\myenv\\lib\\site-packages\\statsmodels\\tsa\\statespace\\sarimax.py:978: UserWarning: Non-invertible starting MA parameters found. Using zeros as starting parameters.\n",
      "  warn('Non-invertible starting MA parameters found.'\n"
     ]
    },
    {
     "name": "stdout",
     "output_type": "stream",
     "text": [
      "Combinacion 2 2\n",
      "obtuvo un mae de 15.051050586165585\n",
      "obtuvo este warning  The residuals do not follow a normal distribution The residuals aren't homocedastic\n",
      "Combinacion 2 3\n",
      "obtuvo un mae de 15.142133747064538\n",
      "obtuvo este warning  The residuals aren't independent The residuals do not follow a normal distribution The residuals aren't homocedastic\n",
      "el mejor mae es 15.051050586165585\n",
      "Combinacion 3 1\n",
      "obtuvo un mae de 16.028683346729785\n",
      "obtuvo este warning  The residuals aren't homocedastic\n"
     ]
    },
    {
     "name": "stderr",
     "output_type": "stream",
     "text": [
      "C:\\Users\\kgome\\anaconda3\\envs\\myenv\\lib\\site-packages\\statsmodels\\tsa\\statespace\\sarimax.py:966: UserWarning: Non-stationary starting autoregressive parameters found. Using zeros as starting parameters.\n",
      "  warn('Non-stationary starting autoregressive parameters'\n",
      "C:\\Users\\kgome\\anaconda3\\envs\\myenv\\lib\\site-packages\\statsmodels\\tsa\\statespace\\sarimax.py:978: UserWarning: Non-invertible starting MA parameters found. Using zeros as starting parameters.\n",
      "  warn('Non-invertible starting MA parameters found.'\n",
      "C:\\Users\\kgome\\anaconda3\\envs\\myenv\\lib\\site-packages\\statsmodels\\tsa\\statespace\\sarimax.py:966: UserWarning: Non-stationary starting autoregressive parameters found. Using zeros as starting parameters.\n",
      "  warn('Non-stationary starting autoregressive parameters'\n",
      "C:\\Users\\kgome\\anaconda3\\envs\\myenv\\lib\\site-packages\\statsmodels\\tsa\\statespace\\sarimax.py:978: UserWarning: Non-invertible starting MA parameters found. Using zeros as starting parameters.\n",
      "  warn('Non-invertible starting MA parameters found.'\n"
     ]
    },
    {
     "name": "stdout",
     "output_type": "stream",
     "text": [
      "Combinacion 3 2\n",
      "obtuvo un mae de 15.77079257831802\n",
      "obtuvo este warning  The residuals do not follow a normal distribution The residuals aren't homocedastic\n",
      "Combinacion 3 3\n",
      "obtuvo un mae de 14.097626413561988\n",
      "obtuvo este warning  The residuals aren't independent The residuals do not follow a normal distribution The residuals aren't homocedastic\n",
      "el mejor mae es 14.097626413561988\n"
     ]
    }
   ],
   "source": [
    "#arima con rolling\n",
    "\n",
    "best_p, d, best_q, mae_list, warnings = arimaconrolling(train, val, 3, 1, 3) #selección del mejor modelo\n",
    "\n",
    "arima_model = smtsa.ARIMA(train, order=(best_p, d, best_q)).fit()\n",
    "residuals_m = arima_model.resid #obtención de residuales del modelo\n",
    "val_pred = arima_rolling(train, val, best_p, d, best_q) #pronosticar validación\n",
    "mae_v, mape_v, mse_v, rmse_v, r2_v = errors(val_pred, val)  #scores validación\n",
    "arch_pvalue, jb_pvalue, ljung_box_pvalue, warning = assumptions(residuals_m) #análisis de los residuales"
   ]
  },
  {
   "cell_type": "markdown",
   "id": "15403ac0-8daa-4651-84e8-a4423d1be46a",
   "metadata": {},
   "source": [
    "A partir del entrenamiento del modelo ARIMA, distintas opciones de modelo para las distintas combinaciones se generaron. Podemos crear una tabla donde observemos mejor el comportamiento que cada uno tuvo, seleccionaremos un modelo que cumpla al menos el supuesto de independencia y que además haya alcanzado el mejor MAE."
   ]
  },
  {
   "cell_type": "code",
   "execution_count": 97,
   "id": "8f81d647-5c6b-495e-ae79-fe940ef60c0b",
   "metadata": {},
   "outputs": [],
   "source": [
    "combs = []\n",
    "for p in range(1,4):\n",
    "    for q in range(1,4):\n",
    "        combs.append(f\"({p:.2f}, {q:.2f})\")"
   ]
  },
  {
   "cell_type": "code",
   "execution_count": 98,
   "id": "e1e0ed5f-e58b-4905-ba5e-2ae3236f56a3",
   "metadata": {},
   "outputs": [],
   "source": [
    "arima_results = {'comb': combs, 'assumptions': warnings, 'mae': mae_list}\n",
    "arima_results = pd.DataFrame(arima_results)"
   ]
  },
  {
   "cell_type": "code",
   "execution_count": 99,
   "id": "93b00afa-8e5a-46d2-b720-f076e02b1fc0",
   "metadata": {},
   "outputs": [
    {
     "data": {
      "text/html": [
       "<div>\n",
       "<style scoped>\n",
       "    .dataframe tbody tr th:only-of-type {\n",
       "        vertical-align: middle;\n",
       "    }\n",
       "\n",
       "    .dataframe tbody tr th {\n",
       "        vertical-align: top;\n",
       "    }\n",
       "\n",
       "    .dataframe thead th {\n",
       "        text-align: right;\n",
       "    }\n",
       "</style>\n",
       "<table border=\"1\" class=\"dataframe\">\n",
       "  <thead>\n",
       "    <tr style=\"text-align: right;\">\n",
       "      <th></th>\n",
       "      <th>comb</th>\n",
       "      <th>assumptions</th>\n",
       "      <th>mae</th>\n",
       "    </tr>\n",
       "  </thead>\n",
       "  <tbody>\n",
       "    <tr>\n",
       "      <th>0</th>\n",
       "      <td>(1.00, 1.00)</td>\n",
       "      <td>The residuals aren't independent The residual...</td>\n",
       "      <td>17.444868</td>\n",
       "    </tr>\n",
       "    <tr>\n",
       "      <th>1</th>\n",
       "      <td>(1.00, 2.00)</td>\n",
       "      <td>The residuals do not follow a normal distribu...</td>\n",
       "      <td>16.166223</td>\n",
       "    </tr>\n",
       "    <tr>\n",
       "      <th>2</th>\n",
       "      <td>(1.00, 3.00)</td>\n",
       "      <td>The residuals do not follow a normal distribu...</td>\n",
       "      <td>15.129966</td>\n",
       "    </tr>\n",
       "    <tr>\n",
       "      <th>3</th>\n",
       "      <td>(2.00, 1.00)</td>\n",
       "      <td>The residuals do not follow a normal distribu...</td>\n",
       "      <td>15.928835</td>\n",
       "    </tr>\n",
       "    <tr>\n",
       "      <th>4</th>\n",
       "      <td>(2.00, 2.00)</td>\n",
       "      <td>The residuals do not follow a normal distribu...</td>\n",
       "      <td>15.051051</td>\n",
       "    </tr>\n",
       "    <tr>\n",
       "      <th>5</th>\n",
       "      <td>(2.00, 3.00)</td>\n",
       "      <td>The residuals aren't independent The residual...</td>\n",
       "      <td>15.142134</td>\n",
       "    </tr>\n",
       "    <tr>\n",
       "      <th>6</th>\n",
       "      <td>(3.00, 1.00)</td>\n",
       "      <td>The residuals aren't homocedastic</td>\n",
       "      <td>16.028683</td>\n",
       "    </tr>\n",
       "    <tr>\n",
       "      <th>7</th>\n",
       "      <td>(3.00, 2.00)</td>\n",
       "      <td>The residuals do not follow a normal distribu...</td>\n",
       "      <td>15.770793</td>\n",
       "    </tr>\n",
       "    <tr>\n",
       "      <th>8</th>\n",
       "      <td>(3.00, 3.00)</td>\n",
       "      <td>The residuals aren't independent The residual...</td>\n",
       "      <td>14.097626</td>\n",
       "    </tr>\n",
       "  </tbody>\n",
       "</table>\n",
       "</div>"
      ],
      "text/plain": [
       "           comb                                        assumptions        mae\n",
       "0  (1.00, 1.00)   The residuals aren't independent The residual...  17.444868\n",
       "1  (1.00, 2.00)   The residuals do not follow a normal distribu...  16.166223\n",
       "2  (1.00, 3.00)   The residuals do not follow a normal distribu...  15.129966\n",
       "3  (2.00, 1.00)   The residuals do not follow a normal distribu...  15.928835\n",
       "4  (2.00, 2.00)   The residuals do not follow a normal distribu...  15.051051\n",
       "5  (2.00, 3.00)   The residuals aren't independent The residual...  15.142134\n",
       "6  (3.00, 1.00)                  The residuals aren't homocedastic  16.028683\n",
       "7  (3.00, 2.00)   The residuals do not follow a normal distribu...  15.770793\n",
       "8  (3.00, 3.00)   The residuals aren't independent The residual...  14.097626"
      ]
     },
     "execution_count": 99,
     "metadata": {},
     "output_type": "execute_result"
    }
   ],
   "source": [
    "arima_results"
   ]
  },
  {
   "cell_type": "markdown",
   "id": "8b849e66-14ac-46ca-a757-f63c40921460",
   "metadata": {},
   "source": [
    "Del anterior ciclo 9 modelos fueron evaluados. El de mejor desempeño en cuanto al MAE, fue el modelo (3,3) con un valor de 14 cargas de diferencia en el pronóstico. Es el menor MAE alcanzado hasta el momento, sin embargo, esta combinación contiene residuales que no cumplen el supuesto de independencia, es posible que existan aún correlaciones entre los residuos que no se logran modelar adecuadamente y los rezagos pueden afectar el pronóstico del modelo. \n",
    "\n",
    "Observamos además que varios de los modelos no cumplen el supuesto de homocedasticidad, aspecto que habíamos anticipado anteriormente. Existe alta variabilidad en el número de cargas diarias reservadas por esta empresa, lo que también afecta el supuesto de normalidad, sin embargo en este proyecto no buscamos calcular intervalos de confianza."
   ]
  },
  {
   "cell_type": "markdown",
   "id": "4a072cc1-fc22-4fd4-9cf5-79145d41dba4",
   "metadata": {},
   "source": [
    "Como mejor modelo ARIMA entonces seleccionaremos el modelo (2,2). Esto dado que con él alcanzamos el segundo mejor MAE de los calculados con aproximadamente una carga más de diferencia al modelo (3,3). Es probable, sin embargo, que con este modelo no obtengamos un resultado ideal, dado el supuesto de heterocedasticidad que no se cumple, ante horizontes largos de tiempo como el del test que tenemos planteado, podría tener una varianza que afecte el resultado considerablemente. \n",
    "\n",
    "Conociendo esta limitación, buscaríamos reducir el impacto de esta no homocedasticidad, con el uso de la técnica rolling. "
   ]
  },
  {
   "cell_type": "markdown",
   "id": "a474f0c2-29e7-4c83-8556-788023c73ba1",
   "metadata": {},
   "source": [
    "Guardemos los resultados para la validación de este modelo y calculemos otras métricas adicionales."
   ]
  },
  {
   "cell_type": "code",
   "execution_count": 111,
   "id": "76e1ee8c-a502-43f4-ba9b-01daa27dd33a",
   "metadata": {
    "scrolled": true
   },
   "outputs": [
    {
     "name": "stderr",
     "output_type": "stream",
     "text": [
      "C:\\Users\\kgome\\anaconda3\\envs\\myenv\\lib\\site-packages\\statsmodels\\tsa\\statespace\\sarimax.py:978: UserWarning: Non-invertible starting MA parameters found. Using zeros as starting parameters.\n",
      "  warn('Non-invertible starting MA parameters found.'\n",
      "C:\\Users\\kgome\\anaconda3\\envs\\myenv\\lib\\site-packages\\statsmodels\\tsa\\statespace\\sarimax.py:978: UserWarning: Non-invertible starting MA parameters found. Using zeros as starting parameters.\n",
      "  warn('Non-invertible starting MA parameters found.'\n"
     ]
    }
   ],
   "source": [
    "#Modelo ARIMA con Rolling\n",
    "\n",
    "arima_model = smtsa.ARIMA(train, order=(2, 1, 2)).fit()\n",
    "residuals_m = arima_model.resid #obtención de residuales del modelo\n",
    "val_pred = arima_rolling(train, val, 2, 1, 2) #pronosticar validación\n",
    "mae_v, mape_v, mse_v, rmse_v, r2_v = errors(val_pred, val) #scores validación\n",
    "arch_pvalue, jb_pvalue, ljung_box_pvalue, warning = assumptions(residuals_m) #análisis de los residuales"
   ]
  },
  {
   "cell_type": "markdown",
   "id": "00da0665-8edc-4e6c-adcf-85e29d95b4d7",
   "metadata": {},
   "source": [
    "Analicemos el desempeño de este modelo para el pronóstico del conjunto de test."
   ]
  },
  {
   "cell_type": "code",
   "execution_count": 112,
   "id": "0d4664e3-809f-4eb9-8134-147b35256cab",
   "metadata": {},
   "outputs": [
    {
     "name": "stderr",
     "output_type": "stream",
     "text": [
      "C:\\Users\\kgome\\anaconda3\\envs\\myenv\\lib\\site-packages\\statsmodels\\tsa\\statespace\\sarimax.py:978: UserWarning: Non-invertible starting MA parameters found. Using zeros as starting parameters.\n",
      "  warn('Non-invertible starting MA parameters found.'\n",
      "C:\\Users\\kgome\\anaconda3\\envs\\myenv\\lib\\site-packages\\statsmodels\\tsa\\statespace\\sarimax.py:978: UserWarning: Non-invertible starting MA parameters found. Using zeros as starting parameters.\n",
      "  warn('Non-invertible starting MA parameters found.'\n"
     ]
    }
   ],
   "source": [
    "#arima con rolling\n",
    "val_result = []\n",
    "test_result = []\n",
    "\n",
    "#forecast testing con arima\n",
    "tt = pd.concat([train,val]) #unir validación con training\n",
    "arima_model = smtsa.ARIMA(tt, order=(2, 1, 2)).fit()\n",
    "test_pred = arima_rolling(tt, test, 2, 1, 2) #pronosticar el testing\n",
    "mae_t, mape_t, mse_t, rmse_t, r2_t = errors(test_pred, test) #scores testing\n",
    "\n",
    "val_result.append([\"arima\", mape_v, mae_v, mse_v, rmse_v, r2_v, arch_pvalue, jb_pvalue, ljung_box_pvalue, warning])\n",
    "test_result.append([\"arima\", mape_t, mae_t, mse_t, rmse_t, r2_t])"
   ]
  },
  {
   "cell_type": "markdown",
   "id": "aad94f9d-69c4-4242-bfc6-fa28a1c9f561",
   "metadata": {},
   "source": [
    "## 2. SARIMA"
   ]
  },
  {
   "cell_type": "markdown",
   "id": "0dac6e8d-0da8-4f47-8a1a-969fa4c51272",
   "metadata": {},
   "source": [
    "El modelo SARIMA además del componente de autorregresivo y media móvil que considera el modelo ARIMA, agrega el análisis de la componente estacional de la serie.\n",
    "\n",
    "Para generar el modelo SARIMA que pronostica con la técnica de 'Rolling' se hace uso de dos funciones:\n",
    "1. _sarimaconrolling_: Esta función recibe los valores de p(AR), q(MA) y el set de training y testing. Además se agregan los parámetros P y Q correspondientes a los autorregresivos y media móvil de la componente estacional. Para cada combinación p, q, P, Q entrena el modelo usando la serie de tiempo de entrenamiento, pronostica el test y se encarga de guardar el valor de p y q con que se obtuvo el menor valor de error. Solo que en este caso el pronóstico se realiza a partir de la técnica de rolling, haciendo un llamado a la función del punto 2.\n",
    "    Esta función además considera los casos de error en que los componentes de P, Q, p y q no pueden ser iguales a la componente estacional s. Es decir, no todas las combinaciones, de hecho, pueden ser evaluadas.\n",
    "   \n",
    "3. _sarima_rolling_: Esta función calcula mediante rolling la cantidad de pasos de la serie de test que recibe. Luego de realizar cada pronóstico, esta función también reentrena el modelo para la combinación de p, q, P, Q que recibe, porque actualiza la serie de tiempo input, agregando un valor real de la serie original de la variable de análisis."
   ]
  },
  {
   "cell_type": "code",
   "execution_count": null,
   "id": "3df30f5d-39ae-4ea1-b575-d2550fa0a915",
   "metadata": {},
   "outputs": [],
   "source": [
    "## sarima con rolling\n",
    "#obtener el mejor modelo\n",
    "def sarimaconrolling(train, ts_test, p, q, P, Q):\n",
    "    warnings = []\n",
    "    mae_list = []\n",
    "    step = len(ts_test)\n",
    "    best_p, best_q, best_Q, best_P, best_s = None, None, None, None, None\n",
    "    best_mae = float(\"inf\")\n",
    "\n",
    "    for ari in range(1, p+1): #p 1, 2, 3\n",
    "        for maj in [3]: #q 1, 2, 3\n",
    "            for ps in range (1, P+1): #P 1, 2\n",
    "                for qs in range (1, Q+1): #Q 1,2 \n",
    "                    for s in range (2, 4): #s 2,3\n",
    "                        if ari !=s and maj != s and ps != s and qs != s:  \n",
    "                            print(\"Combinacion\", ari, maj, ps, qs, s)\n",
    "                            try:\n",
    "                                print(\"Combinacion\", ari, maj, ps, qs, s)\n",
    "                                mod = sm.tsa.statespace.SARIMAX(train, trend='n', order=(ari, 1, maj),\n",
    "                                                                seasonal_order=(ps, 0, qs, s)).fit()\n",
    "                                y_pred = sarima_rolling(train, ts_test, ari, maj, ps, qs, s)\n",
    "                                mae = mean_absolute_error(ts_test, y_pred)\n",
    "                                print(\"obtuvo un mae de\", mae)\n",
    "                                residuals_m = mod.resid #obtención de residuales del modelo\n",
    "                                arch_pvalue, jb_pvalue, ljung_box_pvalue, warning = assumptions(residuals_m) #análisis de los residuales\n",
    "                                print(\"obtuvo este warning\", warning)\n",
    "                                mae_list.append(mae)\n",
    "                                warnings.append(warning)\n",
    "                                \n",
    "                                if mae < best_mae:\n",
    "                                    best_p, best_q, best_Q, best_P, best_s, best_mae = ari, maj, qs, ps, s, mae\n",
    "                        \n",
    "                            except ValueError as e:\n",
    "                                print(f\"Modelo inválido para la combinación ({ari}, {maj}, {ps}, {qs}, {s}): {e}\")\n",
    "\n",
    "                        print(\"el mejor mae es\", best_mae)\n",
    "                        \n",
    "    return best_p, best_q, best_Q, best_P, best_s, mae_list, warnings\n",
    "\n",
    "## pronosticar con rolling\n",
    "def sarima_rolling(ts, test, p, q, P, Q, s):\n",
    "    predictions = []\n",
    "    ts = ts.tolist()\n",
    "    mae_list = []\n",
    "    test = test.reset_index(drop=True)\n",
    "    for t in range(len(test)):\n",
    "        fit = sm.tsa.statespace.SARIMAX(ts, trend='n', order=(p, 1, q),seasonal_order=(P, 0, Q, s)).fit()\n",
    "        output = fit.forecast()\n",
    "        yhat = output[0]\n",
    "        predictions.append(yhat)\n",
    "        obs = test[t]\n",
    "        ts.append(obs)\n",
    "        print(test[:t+1])\n",
    "        print(yhat)\n",
    "        mae = mean_absolute_error(test[:t+1], predictions)\n",
    "        mae_list.append(mae)\n",
    "    return predictions"
   ]
  },
  {
   "cell_type": "markdown",
   "id": "5be1ab54-f289-4c54-bb1e-e6a2ca4839e7",
   "metadata": {},
   "source": [
    "Para iniciar el entrenamiento del modelo SARIMA, debemos conocer el comportamiento de la componente estacional de la serie de tiempo, para ello haremos una descomposición de nuevo y analizaremos con la prueba de Dickey-Fuller y la ACF y la PACF la componente estacional."
   ]
  },
  {
   "cell_type": "code",
   "execution_count": 48,
   "id": "8dcecf5b-5188-4cc6-a63b-e35d9603e3c8",
   "metadata": {},
   "outputs": [],
   "source": [
    "ts_seasonal = seasonal_decompose(train,period = 7, model='additive').seasonal"
   ]
  },
  {
   "cell_type": "markdown",
   "id": "8c0155d2-25a2-4495-9f4e-09ecee827b9a",
   "metadata": {},
   "source": [
    "El parámetro D en el modelo SARIMA está conectado con la necesidad de diferenciar la componente estacional si aplica, es por ello que debemos realizar una prueba de dickey-fuller sobre la componente estacional obtenida anteriormente. Observemos los resultados:"
   ]
  },
  {
   "cell_type": "code",
   "execution_count": 49,
   "id": "544148db-58fd-4b19-88a9-0b666b7f7e58",
   "metadata": {},
   "outputs": [
    {
     "name": "stdout",
     "output_type": "stream",
     "text": [
      "La serie no es estacionaria, el p-valor de la prueba es 0.9585320860598399\n"
     ]
    }
   ],
   "source": [
    "#H0: La serie no es estacionaria\n",
    "#H1: La serie es estacionaria\n",
    "adf_result = adfuller(ts_seasonal, autolag='AIC')\n",
    "if adf_result[1] < 0.05:\n",
    "    print(\"La serie es estacionaria, el p-valor de la prueba es\", adf_result[1])\n",
    "if adf_result[1] > 0.05:\n",
    "    print(\"La serie no es estacionaria, el p-valor de la prueba es\", adf_result[1])"
   ]
  },
  {
   "cell_type": "markdown",
   "id": "87ff1de7-b1a7-4920-88b9-d43d3b0ebef9",
   "metadata": {},
   "source": [
    "Como se observa en la prueba, es necesario diferenciar la componente estacional."
   ]
  },
  {
   "cell_type": "code",
   "execution_count": 115,
   "id": "0828da68-5068-4dfb-9fa0-f3a7b48131cf",
   "metadata": {},
   "outputs": [
    {
     "name": "stdout",
     "output_type": "stream",
     "text": [
      "La serie es estacionaria, el p-valor de la prueba es 0.0\n"
     ]
    }
   ],
   "source": [
    "adf_result = adfuller(ts_seasonal.diff().dropna(), autolag='AIC')\n",
    "if adf_result[1] < 0.05:\n",
    "    print(\"La serie es estacionaria, el p-valor de la prueba es\", adf_result[1])\n",
    "if adf_result[1] > 0.05:\n",
    "    print(\"La serie no es estacionaria, el p-valor de la prueba es\", adf_result[1])"
   ]
  },
  {
   "cell_type": "markdown",
   "id": "38a8238d-a59e-4b78-9c4e-06225e42c5c8",
   "metadata": {},
   "source": [
    "Solo fue necesaria una diferenciación para conseguir la estacionariedad de esta componente."
   ]
  },
  {
   "cell_type": "markdown",
   "id": "3819ddff-bb5f-4030-b912-16de993f52f7",
   "metadata": {},
   "source": [
    "El siguiente paso es estimar los valores de P y Q de la componente estacional, para ello se realiza el mismo proceso que en el caso de ARIMA de analizar con la ACF y la PACF la serie de tiempo, en este caso diferenciada."
   ]
  },
  {
   "cell_type": "markdown",
   "id": "513ead76-cb95-4486-8476-88f7e897ce4e",
   "metadata": {},
   "source": [
    "Con la PACF observamos un comportamiento ocurrente cada dos rezagos, sobre todo pronunciado en el rezago sexto de la serie de tiempo. Utilizaremos P = 2 en este caso para evaluar el modelo."
   ]
  },
  {
   "cell_type": "code",
   "execution_count": 51,
   "id": "a5571606-fa05-4548-bf28-2b067270091b",
   "metadata": {},
   "outputs": [
    {
     "data": {
      "text/plain": [
       "<Figure size 550x550 with 0 Axes>"
      ]
     },
     "metadata": {},
     "output_type": "display_data"
    },
    {
     "data": {
      "image/png": "[encoded data removed]",
      "text/plain": [
       "<Figure size 640x480 with 1 Axes>"
      ]
     },
     "metadata": {},
     "output_type": "display_data"
    }
   ],
   "source": [
    "plt.figure(figsize=(5.5, 5.5));\n",
    "plot_pacf(ts_seasonal.diff().dropna());\n",
    "## valor de P = 2"
   ]
  },
  {
   "cell_type": "markdown",
   "id": "0bcbdea2-c061-4842-8dc5-80413478fa72",
   "metadata": {},
   "source": [
    "Con la ACF observamos un comportamiento ocurrente cada dos y tres rezagos. Para evitar complejidades en los modelos presentados y disminuir el tiempo computacional de corrida de evluación de distintos modelos, utilizaremos Q = 2 en este caso para evaluar el modelo."
   ]
  },
  {
   "cell_type": "code",
   "execution_count": 52,
   "id": "14011b8c-cb57-440e-934a-e2cc3a3cd9c4",
   "metadata": {},
   "outputs": [
    {
     "data": {
      "text/plain": [
       "<Figure size 550x550 with 0 Axes>"
      ]
     },
     "metadata": {},
     "output_type": "display_data"
    },
    {
     "data": {
      "image/png": "[encoded data removed]",
      "text/plain": [
       "<Figure size 640x480 with 1 Axes>"
      ]
     },
     "metadata": {},
     "output_type": "display_data"
    }
   ],
   "source": [
    "plt.figure(figsize=(5.5, 5.5));\n",
    "plot_acf(ts_seasonal.diff().dropna());\n",
    "#valor de q=2"
   ]
  },
  {
   "cell_type": "markdown",
   "id": "df3f624d-0007-4cd5-bb56-2e963cb1c7e7",
   "metadata": {},
   "source": [
    "Conociendo los parámetros p, q, P y Q, con los que evaluaremos la construcción de los modelos SARIMA podemos iniciar el testing de las distintas combinaciones y el MAE resultante. Un aspecto a considerar en el ciclo, es que ninguna variable es inicializada en cero, esto dado que es bastante evidente de que se debe tener en cuenta al menos una componente autorregresiva o de medio móvil tanto en la estacionalidad como en la serie de tiempo."
   ]
  },
  {
   "cell_type": "code",
   "execution_count": 116,
   "id": "4e5347e2-cb72-4bd0-a172-7ff8f9276b25",
   "metadata": {
    "scrolled": true
   },
   "outputs": [],
   "source": [
    "#sarima con rolling\n",
    "#selección del mejor modelo\n",
    "best_p, best_q, best_Q, best_P, best_s, mae_list, warnings = sarimaconrolling(train, val, 3, 3, 2, 2) "
   ]
  },
  {
   "cell_type": "markdown",
   "id": "9b0b52c9-6653-4d58-a396-737b7b6996d6",
   "metadata": {},
   "source": [
    "Este ciclo fue evaluado para dos casos, para cuando D = 0 y cuando D = 1. Se observó que los MAE resultantes aumentaron considerablemente para todos los casos cuando se diferenció la componente estacional, a diferencia de cuando se mantuvo el parámetro D = 0. Con el fin de optimizar el procesamiento de los modelos, el ciclo se evaluó para todas las combinaciones posibles solo con D = 0. Estos son los resultados que se obtuvieron para ambos casos:"
   ]
  },
  {
   "cell_type": "code",
   "execution_count": 120,
   "id": "b9ed3049-d1a0-4552-814a-92b13244d31c",
   "metadata": {},
   "outputs": [],
   "source": [
    "combs = [\"(1 1 1 1 2)\", \"(1 1 1 1 3)\", \"(1 1 1 2 2)\", \"(1 1 1 2 3)\", \"(1 1 2 1 2)\", \"(1 1 2 1 3)\",\n",
    "         \"(1 1 2 2 2)\", \"(1 1 2 2 3)\", \"(1 2 1 1 3)\", \"(1 2 1 2 3)\", \"(1 2 2 1 3)\", \"(1 2 2 2 3)\"]\n",
    "maeD0 = [15.251538393036853, 17.353808540598877, 14.695375844692176, 15.27593750773718, 13.954385435295077, 17.08781612812365,\n",
    "        14.069640854145376, 13.078782929156546, 15.891079517448386, 14.85722756390012, 15.817005733206608, 13.096205042088233]\n",
    "warningsD0 = [\"The residuals do not follow a normal distribution The residuals aren't homocedastic\",\n",
    "             \"The residuals do not follow a normal distribution The residuals aren't homocedastic\",\n",
    "             \"The residuals do not follow a normal distribution The residuals aren't homocedastic\",\n",
    "             \"The residuals do not follow a normal distribution The residuals aren't homocedastic\",\n",
    "             \"The residuals do not follow a normal distribution The residuals aren't homocedastic\",\n",
    "             \"The residuals do not follow a normal distribution The residuals aren't homocedastic\",\n",
    "             \"The residuals do not follow a normal distribution The residuals aren't homocedastic\",\n",
    "             \"The residuals do not follow a normal distribution The residuals aren't homocedastic\",\n",
    "             \"The residuals aren't independent The residuals do not follow a normal distribution The residuals aren't homocedastic\",\n",
    "             \"The residuals aren't independent The residuals do not follow a normal distribution The residuals aren't homocedastic\",\n",
    "             \"The residuals aren't independent The residuals do not follow a normal distribution The residuals aren't homocedastic\",\n",
    "             \"The residuals aren't independent The residuals do not follow a normal distribution The residuals aren't homocedastic\"]"
   ]
  },
  {
   "cell_type": "code",
   "execution_count": 121,
   "id": "48fe6c35-7a7b-4715-a144-035159afbe37",
   "metadata": {},
   "outputs": [],
   "source": [
    "comb = [\"(1 1 1 1 2)\", \"(1 1 1 1 3)\", \"(1 1 1 2 2)\", \"(1 1 1 2 3)\"]\n",
    "maeD1 = [16.02151424449377, 17.42859487514871, 15.469471990912764, 16.85052496583678]\n",
    "warningsD1 = [\"The residuals do not follow a normal distribution The residuals aren't homocedastic\",\n",
    "              \"The residuals do not follow a normal distribution The residuals aren't homocedastic\",\n",
    "              \"The residuals do not follow a normal distribution The residuals aren't homocedastic\",\n",
    "              \"The residuals aren't independent The residuals aren't homocedastic\"]"
   ]
  },
  {
   "cell_type": "code",
   "execution_count": 127,
   "id": "4f21d2db-81c3-4b41-a6ec-3ed360d4473c",
   "metadata": {},
   "outputs": [
    {
     "data": {
      "text/html": [
       "<div>\n",
       "<style scoped>\n",
       "    .dataframe tbody tr th:only-of-type {\n",
       "        vertical-align: middle;\n",
       "    }\n",
       "\n",
       "    .dataframe tbody tr th {\n",
       "        vertical-align: top;\n",
       "    }\n",
       "\n",
       "    .dataframe thead th {\n",
       "        text-align: right;\n",
       "    }\n",
       "</style>\n",
       "<table border=\"1\" class=\"dataframe\">\n",
       "  <thead>\n",
       "    <tr style=\"text-align: right;\">\n",
       "      <th></th>\n",
       "      <th>comb</th>\n",
       "      <th>MAE_D1</th>\n",
       "      <th>Warnings_D1</th>\n",
       "      <th>MAE_D0</th>\n",
       "      <th>Warnings_D0</th>\n",
       "    </tr>\n",
       "  </thead>\n",
       "  <tbody>\n",
       "    <tr>\n",
       "      <th>0</th>\n",
       "      <td>(1 1 1 1 2)</td>\n",
       "      <td>16.021514</td>\n",
       "      <td>The residuals do not follow a normal distribut...</td>\n",
       "      <td>15.251538</td>\n",
       "      <td>The residuals do not follow a normal distribut...</td>\n",
       "    </tr>\n",
       "    <tr>\n",
       "      <th>1</th>\n",
       "      <td>(1 1 1 1 3)</td>\n",
       "      <td>17.428595</td>\n",
       "      <td>The residuals do not follow a normal distribut...</td>\n",
       "      <td>17.353809</td>\n",
       "      <td>The residuals do not follow a normal distribut...</td>\n",
       "    </tr>\n",
       "    <tr>\n",
       "      <th>2</th>\n",
       "      <td>(1 1 1 2 2)</td>\n",
       "      <td>15.469472</td>\n",
       "      <td>The residuals do not follow a normal distribut...</td>\n",
       "      <td>14.695376</td>\n",
       "      <td>The residuals do not follow a normal distribut...</td>\n",
       "    </tr>\n",
       "    <tr>\n",
       "      <th>3</th>\n",
       "      <td>(1 1 1 2 3)</td>\n",
       "      <td>16.850525</td>\n",
       "      <td>The residuals aren't independent The residuals...</td>\n",
       "      <td>15.275938</td>\n",
       "      <td>The residuals do not follow a normal distribut...</td>\n",
       "    </tr>\n",
       "    <tr>\n",
       "      <th>4</th>\n",
       "      <td>(1 1 2 1 2)</td>\n",
       "      <td>NaN</td>\n",
       "      <td>NaN</td>\n",
       "      <td>13.954385</td>\n",
       "      <td>The residuals do not follow a normal distribut...</td>\n",
       "    </tr>\n",
       "    <tr>\n",
       "      <th>5</th>\n",
       "      <td>(1 1 2 1 3)</td>\n",
       "      <td>NaN</td>\n",
       "      <td>NaN</td>\n",
       "      <td>17.087816</td>\n",
       "      <td>The residuals do not follow a normal distribut...</td>\n",
       "    </tr>\n",
       "    <tr>\n",
       "      <th>6</th>\n",
       "      <td>(1 1 2 2 2)</td>\n",
       "      <td>NaN</td>\n",
       "      <td>NaN</td>\n",
       "      <td>14.069641</td>\n",
       "      <td>The residuals do not follow a normal distribut...</td>\n",
       "    </tr>\n",
       "    <tr>\n",
       "      <th>7</th>\n",
       "      <td>(1 1 2 2 3)</td>\n",
       "      <td>NaN</td>\n",
       "      <td>NaN</td>\n",
       "      <td>13.078783</td>\n",
       "      <td>The residuals do not follow a normal distribut...</td>\n",
       "    </tr>\n",
       "    <tr>\n",
       "      <th>8</th>\n",
       "      <td>(1 2 1 1 3)</td>\n",
       "      <td>NaN</td>\n",
       "      <td>NaN</td>\n",
       "      <td>15.891080</td>\n",
       "      <td>The residuals aren't independent The residuals...</td>\n",
       "    </tr>\n",
       "    <tr>\n",
       "      <th>9</th>\n",
       "      <td>(1 2 1 2 3)</td>\n",
       "      <td>NaN</td>\n",
       "      <td>NaN</td>\n",
       "      <td>14.857228</td>\n",
       "      <td>The residuals aren't independent The residuals...</td>\n",
       "    </tr>\n",
       "    <tr>\n",
       "      <th>10</th>\n",
       "      <td>(1 2 2 1 3)</td>\n",
       "      <td>NaN</td>\n",
       "      <td>NaN</td>\n",
       "      <td>15.817006</td>\n",
       "      <td>The residuals aren't independent The residuals...</td>\n",
       "    </tr>\n",
       "    <tr>\n",
       "      <th>11</th>\n",
       "      <td>(1 2 2 2 3)</td>\n",
       "      <td>NaN</td>\n",
       "      <td>NaN</td>\n",
       "      <td>13.096205</td>\n",
       "      <td>The residuals aren't independent The residuals...</td>\n",
       "    </tr>\n",
       "  </tbody>\n",
       "</table>\n",
       "</div>"
      ],
      "text/plain": [
       "           comb     MAE_D1                                        Warnings_D1  \\\n",
       "0   (1 1 1 1 2)  16.021514  The residuals do not follow a normal distribut...   \n",
       "1   (1 1 1 1 3)  17.428595  The residuals do not follow a normal distribut...   \n",
       "2   (1 1 1 2 2)  15.469472  The residuals do not follow a normal distribut...   \n",
       "3   (1 1 1 2 3)  16.850525  The residuals aren't independent The residuals...   \n",
       "4   (1 1 2 1 2)        NaN                                                NaN   \n",
       "5   (1 1 2 1 3)        NaN                                                NaN   \n",
       "6   (1 1 2 2 2)        NaN                                                NaN   \n",
       "7   (1 1 2 2 3)        NaN                                                NaN   \n",
       "8   (1 2 1 1 3)        NaN                                                NaN   \n",
       "9   (1 2 1 2 3)        NaN                                                NaN   \n",
       "10  (1 2 2 1 3)        NaN                                                NaN   \n",
       "11  (1 2 2 2 3)        NaN                                                NaN   \n",
       "\n",
       "       MAE_D0                                        Warnings_D0  \n",
       "0   15.251538  The residuals do not follow a normal distribut...  \n",
       "1   17.353809  The residuals do not follow a normal distribut...  \n",
       "2   14.695376  The residuals do not follow a normal distribut...  \n",
       "3   15.275938  The residuals do not follow a normal distribut...  \n",
       "4   13.954385  The residuals do not follow a normal distribut...  \n",
       "5   17.087816  The residuals do not follow a normal distribut...  \n",
       "6   14.069641  The residuals do not follow a normal distribut...  \n",
       "7   13.078783  The residuals do not follow a normal distribut...  \n",
       "8   15.891080  The residuals aren't independent The residuals...  \n",
       "9   14.857228  The residuals aren't independent The residuals...  \n",
       "10  15.817006  The residuals aren't independent The residuals...  \n",
       "11  13.096205  The residuals aren't independent The residuals...  "
      ]
     },
     "execution_count": 127,
     "metadata": {},
     "output_type": "execute_result"
    }
   ],
   "source": [
    "data_D1 = {'comb': comb, 'MAE_D1': maeD1, 'Warnings_D1': warningsD1}\n",
    "df_D1 = pd.DataFrame(data_D1)\n",
    "\n",
    "data_D0 = {'comb': combs, 'MAE_D0': maeD0, 'Warnings_D0': warningsD0}\n",
    "df_D0 = pd.DataFrame(data_D0)\n",
    "\n",
    "df_combined = pd.merge(df_D1, df_D0, on='comb', how='outer')\n",
    "df_combined"
   ]
  },
  {
   "cell_type": "markdown",
   "id": "388eaf7c-2ac7-4657-9870-062efa9478c5",
   "metadata": {},
   "source": [
    "Como se observa en la tabla, para las 4 primeras combinaciones, en todos los casos diferenciar la componente estacional aumentó el MAE de la combinación. Al igual que en el análisis anterior los modelos no cumplen todos los supuestos, existen problemas de homocedasticidad que también pueden estar afectando la normalidad de la serie. Considerando el MAE, seleccionaremos como mejor modelo, la combinación p = 1, d = 1, q = 1, P = 2, D = 0, Q = 2 y s = 3."
   ]
  },
  {
   "cell_type": "markdown",
   "id": "d2add348-da34-4bba-90ab-910bfb4cb8a0",
   "metadata": {},
   "source": [
    "Entrenemos el modelo con estos parámetros para guardar de nuevo los resultados de la validación más otros scores de pronóstico."
   ]
  },
  {
   "cell_type": "code",
   "execution_count": 132,
   "id": "430a5bf7-ac51-4538-adf7-06129ea8a8c8",
   "metadata": {},
   "outputs": [],
   "source": [
    "#Modelo SARIMA con Rolling\n",
    "\n",
    "sarima_model = sm.tsa.statespace.SARIMAX(train, trend='n', order=(1, 1, 1),\n",
    "                                                            seasonal_order=(2, 0, 2, 3)).fit()\n",
    "residuals_m = sarima_model.resid #obtención de residuales del modelo\n",
    "val_pred = sarima_rolling(train, val, 1, 1, 2, 2, 3) #pronosticar validación\n",
    "mae_v, mape_v, mse_v, rmse_v, r2_v = errors(val_pred, val) #scores validación\n",
    "arch_pvalue, jb_pvalue, ljung_box_pvalue, warning = assumptions(residuals_m) #análisis de los residuales"
   ]
  },
  {
   "cell_type": "markdown",
   "id": "ee64cdbb-fd95-458e-ad1d-4942cafc2424",
   "metadata": {},
   "source": [
    "Ahora evaluemos el desempeño del modelo para pronosticar nuestro conjunto de test."
   ]
  },
  {
   "cell_type": "code",
   "execution_count": 133,
   "id": "85ea8235-f6ba-43b5-bec2-6d3a5d16ed77",
   "metadata": {},
   "outputs": [],
   "source": [
    "#SARIMA con Rolling\n",
    "\n",
    "#forecast testing con SARIMA con Rolling\n",
    "\n",
    "arima_model = sm.tsa.statespace.SARIMAX(tt, trend='n', order=(1, 1, 1),\n",
    "                                                            seasonal_order=(2, 0, 1, 3)).fit()\n",
    "test_pred = sarima_rolling(tt, test, 1, 1, 2, 1, 3) #pronosticar el testing\n",
    "mae_t, mape_t, mse_t, rmse_t, r2_t = errors(test_pred, test) #scores testing\n",
    "\n",
    "val_result.append([\"sarima\", mape_v, mae_v, mse_v, rmse_v, r2_v, arch_pvalue, jb_pvalue, ljung_box_pvalue, warning])\n",
    "test_result.append([\"sarima\", mape_t, mae_t, mse_t, rmse_t, r2_t])"
   ]
  },
  {
   "cell_type": "code",
   "execution_count": 134,
   "id": "bcbafb23-46b0-43c3-9908-d339beb3c7b4",
   "metadata": {},
   "outputs": [],
   "source": [
    "dfval = pd.DataFrame(val_result, columns=['model', 'MAPE', 'MAE', 'MSE', 'RMSE', 'R2', 'arch_pvalue', 'jb_pvalue', 'ljung_box_pvalue', 'warning'])\n",
    "dftest = pd.DataFrame(test_result, columns=['model', 'MAPE', 'MAE', 'MSE', 'RMSE', 'R2']) "
   ]
  },
  {
   "cell_type": "code",
   "execution_count": 140,
   "id": "bad76091-19a1-4002-8045-9ac52421156b",
   "metadata": {},
   "outputs": [],
   "source": [
    "dftest.to_excel(\"results/arimatest.xlsx\")\n",
    "dfval.to_excel(\"results/arimaval.xlsx\")"
   ]
  },
  {
   "cell_type": "markdown",
   "id": "9f0bc247-8a4b-4c27-b03d-263604181ce6",
   "metadata": {},
   "source": [
    "## 4. Resultados"
   ]
  },
  {
   "cell_type": "markdown",
   "id": "5c5852d4-1bfc-4ea7-98fe-f6f810ddd377",
   "metadata": {},
   "source": [
    "En este punto ya hemos seleccionado tanto para ARIMA como SARIMA el mejor modelo con base en el MAE de pronóstico del conjunto de Validación. A comparación de los modelos de suavización tuvimos en cuenta realizar un pronóstico a partir de la técnica de Rolling, a priori se planteó que esto podía mejorar considerablemente el desempeño en el pronóstico aspecto que se comprobó durante los conjuntos de validación donde el MAE obtenido mejoró en varias unidades.\n",
    "\n",
    "Observemos a detalle el rendimiento de ambos modelos para validación y test, además de otras métricas adicionales calculadas."
   ]
  },
  {
   "cell_type": "markdown",
   "id": "b18754ec-fe9f-4f25-b0b8-bda499eb6022",
   "metadata": {},
   "source": [
    "### 4.1 Resultados en el entrenamiento de los modelos"
   ]
  },
  {
   "cell_type": "code",
   "execution_count": 138,
   "id": "49557f03-2324-49d3-8600-43bb7d17e701",
   "metadata": {},
   "outputs": [
    {
     "data": {
      "text/html": [
       "<div>\n",
       "<style scoped>\n",
       "    .dataframe tbody tr th:only-of-type {\n",
       "        vertical-align: middle;\n",
       "    }\n",
       "\n",
       "    .dataframe tbody tr th {\n",
       "        vertical-align: top;\n",
       "    }\n",
       "\n",
       "    .dataframe thead th {\n",
       "        text-align: right;\n",
       "    }\n",
       "</style>\n",
       "<table border=\"1\" class=\"dataframe\">\n",
       "  <thead>\n",
       "    <tr style=\"text-align: right;\">\n",
       "      <th></th>\n",
       "      <th>model</th>\n",
       "      <th>MAPE</th>\n",
       "      <th>MAE</th>\n",
       "      <th>MSE</th>\n",
       "      <th>RMSE</th>\n",
       "      <th>R2</th>\n",
       "      <th>arch_pvalue</th>\n",
       "      <th>jb_pvalue</th>\n",
       "      <th>ljung_box_pvalue</th>\n",
       "      <th>warning</th>\n",
       "      <th>parameters</th>\n",
       "    </tr>\n",
       "  </thead>\n",
       "  <tbody>\n",
       "    <tr>\n",
       "      <th>0</th>\n",
       "      <td>arima</td>\n",
       "      <td>inf</td>\n",
       "      <td>15.051051</td>\n",
       "      <td>323.407261</td>\n",
       "      <td>17.983527</td>\n",
       "      <td>0.247404</td>\n",
       "      <td>8.338575e-08</td>\n",
       "      <td>4.252854e-22</td>\n",
       "      <td>0.461667</td>\n",
       "      <td>The residuals do not follow a normal distribu...</td>\n",
       "      <td>(2,1,2)</td>\n",
       "    </tr>\n",
       "    <tr>\n",
       "      <th>1</th>\n",
       "      <td>sarima</td>\n",
       "      <td>inf</td>\n",
       "      <td>13.078783</td>\n",
       "      <td>247.766921</td>\n",
       "      <td>15.740614</td>\n",
       "      <td>0.423426</td>\n",
       "      <td>2.492835e-15</td>\n",
       "      <td>8.061886e-41</td>\n",
       "      <td>0.171245</td>\n",
       "      <td>The residuals do not follow a normal distribu...</td>\n",
       "      <td>(1,1,1)(2, 0, 2, 3)</td>\n",
       "    </tr>\n",
       "  </tbody>\n",
       "</table>\n",
       "</div>"
      ],
      "text/plain": [
       "    model  MAPE        MAE         MSE       RMSE        R2   arch_pvalue  \\\n",
       "0   arima   inf  15.051051  323.407261  17.983527  0.247404  8.338575e-08   \n",
       "1  sarima   inf  13.078783  247.766921  15.740614  0.423426  2.492835e-15   \n",
       "\n",
       "      jb_pvalue  ljung_box_pvalue  \\\n",
       "0  4.252854e-22          0.461667   \n",
       "1  8.061886e-41          0.171245   \n",
       "\n",
       "                                             warning           parameters  \n",
       "0   The residuals do not follow a normal distribu...              (2,1,2)  \n",
       "1   The residuals do not follow a normal distribu...  (1,1,1)(2, 0, 2, 3)  "
      ]
     },
     "execution_count": 138,
     "metadata": {},
     "output_type": "execute_result"
    }
   ],
   "source": [
    "dfval['parameters'] = ['(2,1,2)','(1,1,1)(2, 0, 2, 3)']\n",
    "dfval"
   ]
  },
  {
   "cell_type": "markdown",
   "id": "c0e57832-f618-4da5-a943-90e9dac701a6",
   "metadata": {},
   "source": [
    "**Key insights**\n",
    "1. Claramente podemos observar que el R2 mejoró bastante con respecto a los modelos de suavización, que el mayor valor que alcanzaron fue de -0.09. Este tipo de modelos empieza a capturar de mejor forma la variabilidad de los datos, además los patrones de estacionalidad y tendencia de la serie. Sobre todo el modelo SARIMA que alcanzó un 42% de R2.\n",
    "2. SARIMA de hecho presentó los valores de error más bajos hasta el momento alcanzando un valor de 13 cargas como MAE, esto puede deberse a la capacidad de modelar el componente estacional que tiene la serie diaria.\n",
    "3. Al menos en el entrenamiento, ambos modelos tuvieron mucho mejor desempeño que las suavizaciones del capítulo anterior.\n",
    "4. Aunque en ambos casos se utilizó p, q de rango 3, en SARIMA los valores de p, q se mantuvieron en un rezago, mientras que ARIMA obtuvo su mejor modelo con dos en cada caso.\n",
    "5. El componente estacional de SARIMA fue 3, mientras que el de Holt-Winters fue 4, se puede analizar la posibilidad de aumentar el límite del ciclo para conocer si estacionalidades de mayor orden permiten mejorar el desempeño del modelo.\n",
    "6. Ninguno de los dos modelos cumple los supuestos de normalidad y heterocedasticidad lo que pueden generar problemas posteriores en el pronóstico.\n",
    "7. En este caso ambos modelos cumplen el supuesto de independencia."
   ]
  },
  {
   "cell_type": "markdown",
   "id": "3c11819e-05a8-407d-a133-723bb2cc89fe",
   "metadata": {},
   "source": [
    "A continuación comparemos si en el test, los resultados mantienen al modelo SARIMA como mejor modelo."
   ]
  },
  {
   "cell_type": "markdown",
   "id": "a5fecc37-38d3-4b85-a74b-e23236b71c8f",
   "metadata": {},
   "source": [
    "### 4.2 Resultados en el conjunto de test"
   ]
  },
  {
   "cell_type": "code",
   "execution_count": 139,
   "id": "f604c2ff-e2c3-4778-87eb-82d6b72c5451",
   "metadata": {},
   "outputs": [
    {
     "data": {
      "text/html": [
       "<div>\n",
       "<style scoped>\n",
       "    .dataframe tbody tr th:only-of-type {\n",
       "        vertical-align: middle;\n",
       "    }\n",
       "\n",
       "    .dataframe tbody tr th {\n",
       "        vertical-align: top;\n",
       "    }\n",
       "\n",
       "    .dataframe thead th {\n",
       "        text-align: right;\n",
       "    }\n",
       "</style>\n",
       "<table border=\"1\" class=\"dataframe\">\n",
       "  <thead>\n",
       "    <tr style=\"text-align: right;\">\n",
       "      <th></th>\n",
       "      <th>model</th>\n",
       "      <th>MAPE</th>\n",
       "      <th>MAE</th>\n",
       "      <th>MSE</th>\n",
       "      <th>RMSE</th>\n",
       "      <th>R2</th>\n",
       "      <th>parameters</th>\n",
       "    </tr>\n",
       "  </thead>\n",
       "  <tbody>\n",
       "    <tr>\n",
       "      <th>0</th>\n",
       "      <td>arima</td>\n",
       "      <td>inf</td>\n",
       "      <td>14.242388</td>\n",
       "      <td>273.714722</td>\n",
       "      <td>16.544326</td>\n",
       "      <td>0.239715</td>\n",
       "      <td>(2,1,2)</td>\n",
       "    </tr>\n",
       "    <tr>\n",
       "      <th>1</th>\n",
       "      <td>sarima</td>\n",
       "      <td>inf</td>\n",
       "      <td>16.311696</td>\n",
       "      <td>354.120036</td>\n",
       "      <td>18.818077</td>\n",
       "      <td>0.016377</td>\n",
       "      <td>(1,1,1)(2, 0, 2, 3)</td>\n",
       "    </tr>\n",
       "  </tbody>\n",
       "</table>\n",
       "</div>"
      ],
      "text/plain": [
       "    model  MAPE        MAE         MSE       RMSE        R2  \\\n",
       "0   arima   inf  14.242388  273.714722  16.544326  0.239715   \n",
       "1  sarima   inf  16.311696  354.120036  18.818077  0.016377   \n",
       "\n",
       "            parameters  \n",
       "0              (2,1,2)  \n",
       "1  (1,1,1)(2, 0, 2, 3)  "
      ]
     },
     "execution_count": 139,
     "metadata": {},
     "output_type": "execute_result"
    }
   ],
   "source": [
    "dftest['parameters'] = ['(2,1,2)','(1,1,1)(2, 0, 2, 3)']\n",
    "dftest"
   ]
  },
  {
   "cell_type": "markdown",
   "id": "800f637a-b02f-4a16-8491-5336c351ec5a",
   "metadata": {},
   "source": [
    "**Key insights**\n",
    "1. Sorprendentemente el modelo SARIMA bajó bastante su desempeño al pronosticar el testing, de hecho de tener un 42% de R2 disminuyó a casi 0%. Esto puede ser un índice de sobreajuste del modelo, se debe evaluar a profundidad.\n",
    "2. ARIMA mejoró sus numeros de MAE, MSE y RMSE, durante el pronóstico del test y hasta ahora es el valor de MAE más bajo captado durante el testing de cargas. \n",
    "3. La búsqueda de modelar la estacionalidad aún no da resultado ni con SARIMA ni con Holt-Winters, la ausencia de homocedasticidad puede generar fallas en la precisión del pronóstico."
   ]
  },
  {
   "cell_type": "markdown",
   "id": "716615f7-e873-4d6a-b0d6-c85f057dcb08",
   "metadata": {},
   "source": [
    "### 4.3 Selección del mejor modelo"
   ]
  },
  {
   "cell_type": "markdown",
   "id": "eb06e79d-1dae-467a-8cec-310957c34d69",
   "metadata": {},
   "source": [
    "En las técnicas de ARIMA y SARIMA podemos observar que en definitiva la técnica de Rolling beneficia el pronóstico del modelo. A pesar de que SARIMA presentó un buen desempeño durante la validación no lo mantuvo en el test, probablemente relacionado con sobreajuste y ARIMA solo a partir del análisis de tendencia alcanzó el mejor MAE hasta el momento.\n",
    "\n",
    "En este estudio no se mostraron las opciones de transformación de datos, pero testeos preliminares de la autora corroboraron que incluso con transformadas de Box-cox y logarítmicas, los datos no cumplían el supuesto de normalidad ni heterocedasticidad.\n",
    "\n",
    "Construyamos de nuevo el modelo ARIMA para graficar su pronóstico."
   ]
  },
  {
   "cell_type": "code",
   "execution_count": null,
   "id": "64854fee-db80-4aa9-b756-cec06196437f",
   "metadata": {},
   "outputs": [
    {
     "name": "stderr",
     "output_type": "stream",
     "text": [
      "C:\\Users\\kgome\\anaconda3\\envs\\myenv\\lib\\site-packages\\statsmodels\\tsa\\statespace\\sarimax.py:978: UserWarning: Non-invertible starting MA parameters found. Using zeros as starting parameters.\n",
      "  warn('Non-invertible starting MA parameters found.'\n"
     ]
    }
   ],
   "source": [
    "tt = pd.concat([train,val]) #unir validación con training\n",
    "arima_model = smtsa.ARIMA(tt, order=(2, 1, 2)).fit()\n",
    "test_pred_normal = arima_model.forecast(len(test))\n",
    "test_pred_roll = arima_rolling(tt, test, 2, 1, 2) #pronosticar el testing\n",
    "mae_t, mape_t, mse_t, rmse_t, r2_t = errors(test_pred_roll, test) #scores testing\n",
    "mae_tn, mape_tn, mse_tn, rmse_tn, r2_tn = errors(test_pred_normal, test) #scores testing"
   ]
  },
  {
   "cell_type": "code",
   "execution_count": null,
   "id": "cb8a1664-1bbc-41bf-849a-abcb9e497ba1",
   "metadata": {},
   "outputs": [],
   "source": [
    "plt.figure(figsize=(12, 6))\n",
    "plt.plot(test.index, test, label='Cargas diarias transportadas', color='blue')\n",
    "plt.plot(test.index, test_pred_normal, label='Pronóstico Forecast', color='orange', linestyle='--')\n",
    "plt.plot(test.index, test_pred_roll, label='Pronóstico Rolling', color='green', linestyle='--')\n",
    "plt.title('Comparación de Pronóstico Normal y Rolling con ARIMA')\n",
    "plt.xlabel('Fecha')\n",
    "plt.ylabel('Cargas transportadas')\n",
    "plt.legend()\n",
    "plt.show()"
   ]
  },
  {
   "cell_type": "code",
   "execution_count": null,
   "id": "aa135df8-c472-4844-8fb5-b9bffc8469f2",
   "metadata": {},
   "outputs": [],
   "source": [
    "labels = ['Normal', 'Rolling']\n",
    "maes = [mae_tn, mae_t]\n",
    "mapes = [mape_tn, mape_t]\n",
    "mses = [mse_tn, mse_t]\n",
    "rmses = [rmse_tn, rmse_t]\n",
    "\n",
    "fig, axs = plt.subplots(2, 2, figsize=(12, 8))\n",
    "\n",
    "axs[0, 0].bar(labels, maes, color=['orange', 'green'])\n",
    "axs[0, 0].set_title('MAE')\n",
    "axs[0, 1].bar(labels, mapes, color=['orange', 'green'])\n",
    "axs[0, 1].set_title('MAPE')\n",
    "axs[1, 0].bar(labels, mses, color=['orange', 'green'])\n",
    "axs[1, 0].set_title('MSE')\n",
    "axs[1, 1].bar(labels, rmses, color=['orange', 'green'])\n",
    "axs[1, 1].set_title('RMSE')\n",
    "plt.suptitle('Comparación de Métricas de Error en Testing')\n",
    "plt.show()"
   ]
  },
  {
   "cell_type": "markdown",
   "id": "14750813-2032-4e83-8ff9-5d9ea8d357fb",
   "metadata": {},
   "source": [
    "Como podemos observar en este gráfico de barras el modelo de Rolling tiene mejor desempeño en las métricas, comprobando una vez más que esta técnica soporta la heterocedasticidad en las predicciones."
   ]
  }
 ],
 "metadata": {
  "kernelspec": {
   "display_name": "Python 3 (ipykernel)",
   "language": "python",
   "name": "python3"
  },
  "language_info": {
   "codemirror_mode": {
    "name": "ipython",
    "version": 3
   },
   "file_extension": ".py",
   "mimetype": "text/x-python",
   "name": "python",
   "nbconvert_exporter": "python",
   "pygments_lexer": "ipython3",
   "version": "3.10.15"
  }
 },
 "nbformat": 4,
 "nbformat_minor": 5
}
